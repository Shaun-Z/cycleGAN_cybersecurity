{
 "cells": [
  {
   "cell_type": "code",
   "execution_count": 1,
   "metadata": {},
   "outputs": [],
   "source": [
    "import torchvision.transforms as transforms\n",
    "from torchvision.utils import save_image, make_grid\n",
    "\n",
    "from torch.utils.data import DataLoader\n",
    "from torchvision import datasets\n",
    "from torch.autograd import Variable\n",
    "\n",
    "from models import *\n",
    "from datasets import *\n",
    "from utils import *\n",
    "\n",
    "import torch.nn as nn\n",
    "import torch.nn.functional as F\n",
    "import torch\n",
    "\n",
    "from dataset.time_dataset import TsFinalDataset\n",
    "from pathlib import Path\n",
    "\n",
    "import matplotlib.pyplot as plt\n",
    "\n",
    "from dtw import dtw"
   ]
  },
  {
   "cell_type": "code",
   "execution_count": 2,
   "metadata": {},
   "outputs": [],
   "source": [
    "noise_type='other'"
   ]
  },
  {
   "cell_type": "code",
   "execution_count": 3,
   "metadata": {},
   "outputs": [
    {
     "data": {
      "text/plain": [
       "(torch.Size([15, 2045, 33]),\n",
       " torch.Size([15, 2045, 33]),\n",
       " torch.Size([15, 1973, 33]),\n",
       " torch.Size([15, 1973, 33]))"
      ]
     },
     "execution_count": 3,
     "metadata": {},
     "output_type": "execute_result"
    }
   ],
   "source": [
    "# Dataset\n",
    "datapath = Path('data')\n",
    "\n",
    "dataset_noRE = TsFinalDataset(datapath/'CaseI-Attacks without any change.csv', noise_type=\"none\")\n",
    "dataset_RE = TsFinalDataset(datapath/'CaseII.csv', noise_type='none')\n",
    "\n",
    "data_normal_noRE = dataset_noRE.data_normal\n",
    "data_attacked_noRE = dataset_noRE.data_attacked\n",
    "\n",
    "data_normal_RE = dataset_RE.data_normal\n",
    "data_attacked_RE = dataset_RE.data_attacked\n",
    "\n",
    "data_normal_noRE.size(), data_attacked_noRE.size(), data_normal_RE.size(), data_attacked_RE.size()"
   ]
  },
  {
   "cell_type": "code",
   "execution_count": 4,
   "metadata": {},
   "outputs": [
    {
     "data": {
      "text/plain": [
       "LSTMFullDiscriminator(\n",
       "  (lstm): LSTM(33, 256, batch_first=True)\n",
       "  (linear): Sequential(\n",
       "    (0): Linear(in_features=256, out_features=33, bias=True)\n",
       "    (1): Sigmoid()\n",
       "  )\n",
       ")"
      ]
     },
     "execution_count": 4,
     "metadata": {},
     "output_type": "execute_result"
    }
   ],
   "source": [
    "normal_seq_len = dataset_noRE.data_normal.size(1)\n",
    "normal_feature_len = dataset_noRE.data_normal.size(2)\n",
    "attacked_seq_len = dataset_noRE.data_attacked.size(1)\n",
    "attacked_feature_len = dataset_noRE.data_attacked.size(2)\n",
    "\n",
    "G_AB = LSTMFullGenerator(normal_seq_len, normal_feature_len)\n",
    "G_BA = LSTMFullGenerator(attacked_seq_len, attacked_feature_len)\n",
    "D_A = LSTMFullDiscriminator(normal_feature_len)\n",
    "D_B = LSTMFullDiscriminator(normal_feature_len)\n",
    "\n",
    "G_AB.load_state_dict(torch.load(f\"saved_models/true/{noise_type}/G_AB_190.pth\"))\n",
    "G_BA.load_state_dict(torch.load(f\"saved_models/true/{noise_type}/G_BA_190.pth\"))\n",
    "D_A.load_state_dict(torch.load(f\"saved_models/true/{noise_type}/D_A_190.pth\"))\n",
    "D_B.load_state_dict(torch.load(f\"saved_models/true/{noise_type}/D_B_190.pth\"))\n",
    "\n",
    "G_AB.eval()\n",
    "G_BA.eval()\n",
    "D_A.eval()\n",
    "D_B.eval()"
   ]
  },
  {
   "cell_type": "markdown",
   "metadata": {},
   "source": [
    "# Experiment on Normal (RE)"
   ]
  },
  {
   "cell_type": "code",
   "execution_count": 5,
   "metadata": {},
   "outputs": [
    {
     "name": "stdout",
     "output_type": "stream",
     "text": [
      "tensor(0.9699) tensor(0.9685) tensor(0.9688)\n",
      "tensor(0.0365) tensor(0.0365) tensor(0.0370)\n",
      "Output size: torch.Size([15, 1973, 33]) \t Output Back size: torch.Size([15, 1973, 33])\n"
     ]
    }
   ],
   "source": [
    "with torch.no_grad():\n",
    "    output = G_AB(data_normal_RE)\n",
    "    output_back = G_BA(output)\n",
    "    print(D_A(data_normal_RE).mean(), D_A(output).mean(), D_A(output_back).mean())\n",
    "    print(D_B(data_normal_RE).mean(), D_B(output).mean(), D_B(output_back).mean())\n",
    "print(f\"Output size: {output.size()} \\t Output Back size: {output_back.size()}\")"
   ]
  },
  {
   "cell_type": "code",
   "execution_count": 6,
   "metadata": {},
   "outputs": [
    {
     "name": "stdout",
     "output_type": "stream",
     "text": [
      "0 tensor(1.1028) tensor(0.2127) tensor(0.2086) tensor(0.0260)\n",
      "1 tensor(1.1028) tensor(0.2127) tensor(0.2086) tensor(0.0260)\n",
      "2 tensor(1.1028) tensor(0.2127) tensor(0.2086) tensor(0.0260)\n",
      "3 tensor(1.1028) tensor(0.2127) tensor(0.2086) tensor(0.0260)\n",
      "4 tensor(1.1028) tensor(0.2127) tensor(0.2086) tensor(0.0260)\n",
      "5 tensor(1.1028) tensor(0.2127) tensor(0.2086) tensor(0.0260)\n",
      "6 tensor(1.1028) tensor(0.2127) tensor(0.2086) tensor(0.0260)\n",
      "7 tensor(1.1028) tensor(0.2127) tensor(0.2086) tensor(0.0260)\n",
      "8 tensor(1.1028) tensor(0.2127) tensor(0.2086) tensor(0.0260)\n",
      "9 tensor(1.1028) tensor(0.2127) tensor(0.2086) tensor(0.0260)\n",
      "10 tensor(1.1028) tensor(0.2127) tensor(0.2086) tensor(0.0260)\n",
      "11 tensor(1.1028) tensor(0.2127) tensor(0.2086) tensor(0.0260)\n",
      "12 tensor(1.1028) tensor(0.2127) tensor(0.2086) tensor(0.0260)\n",
      "13 tensor(1.1028) tensor(0.2127) tensor(0.2086) tensor(0.0260)\n",
      "14 tensor(1.1028) tensor(0.2127) tensor(0.2086) tensor(0.0260)\n"
     ]
    }
   ],
   "source": [
    "os.makedirs(f'cyber_result/true_L1/{noise_type}/NormalRE', exist_ok=True)\n",
    "NormalRE_res_list = []\n",
    "\n",
    "for i in range(output.size(0)):\n",
    "    for feature_number in range(output.size(2)):\n",
    "        plt.plot(output[i, :, feature_number].numpy())\n",
    "        plt.plot(output_back[i, :, feature_number].numpy())\n",
    "        plt.plot(data_normal_RE[i, :, feature_number].numpy())\n",
    "        plt.legend(['Generated', 'Generated Back', 'Normal data with RE'])\n",
    "        plt.savefig(f'cyber_result/true_L1/{noise_type}/NormalRE/output_{i}_feature{feature_number}.png')\n",
    "        plt.close()\n",
    "    dist1 = torch.mean(np.abs(data_normal_RE[i] - output[i]))\n",
    "    dist2 = torch.mean(np.abs(output[i] - output_back[i]))\n",
    "    dist3 = torch.mean(np.abs(output_back[i] - data_normal_RE[i]))\n",
    "    res = (dist2+dist3)/dist1\n",
    "    NormalRE_res_list.append(res)\n",
    "    print(i, res, dist1, dist2, dist3)"
   ]
  },
  {
   "cell_type": "code",
   "execution_count": 7,
   "metadata": {},
   "outputs": [],
   "source": [
    "plt.figure()\n",
    "# Scatter plot with individual colors for each point\n",
    "plt.scatter(range(len(NormalRE_res_list)), NormalRE_res_list, color='red')\n",
    "# plt.axhline(y=threshold, color='red', linestyle='--')\n",
    "plt.xlabel('Index')\n",
    "plt.ylabel(r'$\\frac{d_2+d_3}{d_1}$')\n",
    "plt.title('Test: Normal data with RE')\n",
    "plt.savefig(f'cyber_result/true_L1/{noise_type}/NormalRE.png')\n",
    "plt.close()"
   ]
  },
  {
   "cell_type": "markdown",
   "metadata": {},
   "source": [
    "---"
   ]
  },
  {
   "cell_type": "markdown",
   "metadata": {},
   "source": [
    "# Experiment on Attacked (RE)"
   ]
  },
  {
   "cell_type": "code",
   "execution_count": 8,
   "metadata": {},
   "outputs": [
    {
     "data": {
      "text/plain": [
       "torch.Size([15, 1973, 33])"
      ]
     },
     "execution_count": 8,
     "metadata": {},
     "output_type": "execute_result"
    }
   ],
   "source": [
    "data_attacked_RE.size()"
   ]
  },
  {
   "cell_type": "code",
   "execution_count": 9,
   "metadata": {},
   "outputs": [
    {
     "name": "stdout",
     "output_type": "stream",
     "text": [
      "tensor(0.9694) tensor(0.9686) tensor(0.9689)\n",
      "tensor(0.0380) tensor(0.0368) tensor(0.0370)\n",
      "Output size: torch.Size([15, 1973, 33]) \t Output Back size: torch.Size([15, 1973, 33])\n"
     ]
    }
   ],
   "source": [
    "with torch.no_grad():\n",
    "    output = G_AB(data_attacked_RE)\n",
    "    output_back = G_BA(output)\n",
    "    print(D_A(data_attacked_RE).mean(), D_A(output).mean(), D_A(output_back).mean())\n",
    "    print(D_B(data_attacked_RE).mean(), D_B(output).mean(), D_B(output_back).mean())\n",
    "print(f\"Output size: {output.size()} \\t Output Back size: {output_back.size()}\")"
   ]
  },
  {
   "cell_type": "code",
   "execution_count": 10,
   "metadata": {},
   "outputs": [
    {
     "name": "stdout",
     "output_type": "stream",
     "text": [
      "0 tensor(1.1980) tensor(0.3762) tensor(0.1940) tensor(0.2566)\n",
      "1 tensor(1.1992) tensor(0.3762) tensor(0.1940) tensor(0.2572)\n",
      "2 tensor(1.2062) tensor(0.3764) tensor(0.1941) tensor(0.2599)\n",
      "3 tensor(1.1973) tensor(0.3761) tensor(0.1940) tensor(0.2563)\n",
      "4 tensor(1.1977) tensor(0.3763) tensor(0.1940) tensor(0.2567)\n",
      "5 tensor(1.1969) tensor(0.3762) tensor(0.1940) tensor(0.2563)\n",
      "6 tensor(1.1969) tensor(0.3761) tensor(0.1940) tensor(0.2562)\n",
      "7 tensor(1.1970) tensor(0.3762) tensor(0.1940) tensor(0.2563)\n",
      "8 tensor(1.1969) tensor(0.3761) tensor(0.1940) tensor(0.2562)\n",
      "9 tensor(1.1969) tensor(0.3761) tensor(0.1940) tensor(0.2561)\n",
      "10 tensor(1.1969) tensor(0.3762) tensor(0.1940) tensor(0.2562)\n",
      "11 tensor(1.1969) tensor(0.3761) tensor(0.1940) tensor(0.2561)\n",
      "12 tensor(1.1970) tensor(0.3761) tensor(0.1940) tensor(0.2562)\n",
      "13 tensor(1.1979) tensor(0.3763) tensor(0.1940) tensor(0.2567)\n",
      "14 tensor(1.1973) tensor(0.3761) tensor(0.1940) tensor(0.2563)\n"
     ]
    }
   ],
   "source": [
    "os.makedirs(f'cyber_result/true_L1/{noise_type}/AttackedRE', exist_ok=True)\n",
    "AttackedRE_res_list = []\n",
    "\n",
    "for i in range(output.size(0)):\n",
    "    for feature_number in range(output.size(2)):\n",
    "        plt.plot(output[i,:,feature_number].numpy())\n",
    "        plt.plot(output_back[i,:,feature_number].numpy())\n",
    "        plt.plot(data_attacked_RE[i,:,feature_number].numpy())\n",
    "        plt.legend(['Generated', 'Generated Back', 'Attacked data with RE'])\n",
    "        plt.savefig(f'cyber_result/true_L1/{noise_type}/AttackedRE/output_{i}_feature{feature_number}.png')\n",
    "        plt.close()\n",
    "    dist1 = torch.mean(np.abs(data_attacked_RE[i] - output[i]))\n",
    "    dist2 = torch.mean(np.abs(output[i] - output_back[i]))\n",
    "    dist3 = torch.mean(np.abs(output_back[i] - data_attacked_RE[i]))\n",
    "    res = (dist2+dist3)/dist1\n",
    "    AttackedRE_res_list.append(res)\n",
    "    print(i, res, dist1, dist2, dist3)"
   ]
  },
  {
   "cell_type": "code",
   "execution_count": 11,
   "metadata": {},
   "outputs": [],
   "source": [
    "plt.figure()\n",
    "# Scatter plot with individual colors for each point\n",
    "plt.scatter(range(len(AttackedRE_res_list)), AttackedRE_res_list, color='red')\n",
    "# plt.axhline(y=threshold, color='red', linestyle='--')\n",
    "plt.xlabel('Index')\n",
    "plt.ylabel(r'$\\frac{d_2+d_3}{d_1}$')\n",
    "plt.title('Test: Attacked data with RE')\n",
    "plt.savefig(f'cyber_result/true_L1/{noise_type}/AttackedRE.png')\n",
    "plt.close()"
   ]
  },
  {
   "cell_type": "markdown",
   "metadata": {},
   "source": [
    "# Compare 2 situations with RE"
   ]
  },
  {
   "cell_type": "code",
   "execution_count": 12,
   "metadata": {},
   "outputs": [],
   "source": [
    "# Assuming forward_res_list and detection_res_list are defined as in your code\n",
    "threshold = 1.13\n",
    "\n",
    "# Scatter plot with individual colors for each point\n",
    "plt.scatter(range(len(NormalRE_res_list)), NormalRE_res_list, color='blue', label='Normal')\n",
    "plt.scatter(range(len(AttackedRE_res_list)), AttackedRE_res_list, color='red', label='Attacked')\n",
    "\n",
    "# Add a horizontal line at the threshold value\n",
    "plt.axhline(y=threshold, color='black', linestyle='--')\n",
    "\n",
    "# Set the labels and title\n",
    "plt.xlabel('Index')\n",
    "plt.ylabel('Res')\n",
    "plt.title('Comparison of Normal and Attacked Results with RE')\n",
    "\n",
    "# Add a legend\n",
    "plt.legend()\n",
    "\n",
    "plt.savefig(f'cyber_result/true_L1/{noise_type}/ComparisonRE.png')\n",
    "plt.close()"
   ]
  },
  {
   "cell_type": "markdown",
   "metadata": {},
   "source": [
    "# Experiment on Normal (no RE)"
   ]
  },
  {
   "cell_type": "code",
   "execution_count": 13,
   "metadata": {},
   "outputs": [
    {
     "name": "stdout",
     "output_type": "stream",
     "text": [
      "tensor(0.9700) tensor(0.9686) tensor(0.9688)\n",
      "tensor(0.0365) tensor(0.0364) tensor(0.0370)\n",
      "Output size: torch.Size([15, 2045, 33]) \t Output Back size: torch.Size([15, 2045, 33])\n"
     ]
    }
   ],
   "source": [
    "with torch.no_grad():\n",
    "    output = G_AB(data_normal_noRE)\n",
    "    output_back = G_BA(output)\n",
    "    print(D_A(data_normal_noRE).mean(), D_A(output).mean(), D_A(output_back).mean())\n",
    "    print(D_B(data_normal_noRE).mean(), D_B(output).mean(), D_B(output_back).mean())\n",
    "print(f\"Output size: {output.size()} \\t Output Back size: {output_back.size()}\")"
   ]
  },
  {
   "cell_type": "code",
   "execution_count": 14,
   "metadata": {},
   "outputs": [
    {
     "name": "stdout",
     "output_type": "stream",
     "text": [
      "0 tensor(1.0870) tensor(0.2130) tensor(0.2085) tensor(0.0230)\n",
      "1 tensor(1.0870) tensor(0.2130) tensor(0.2085) tensor(0.0230)\n",
      "2 tensor(1.0870) tensor(0.2130) tensor(0.2085) tensor(0.0230)\n",
      "3 tensor(1.0870) tensor(0.2130) tensor(0.2085) tensor(0.0230)\n",
      "4 tensor(1.0870) tensor(0.2130) tensor(0.2085) tensor(0.0230)\n",
      "5 tensor(1.0870) tensor(0.2130) tensor(0.2085) tensor(0.0230)\n",
      "6 tensor(1.0870) tensor(0.2130) tensor(0.2085) tensor(0.0230)\n",
      "7 tensor(1.0870) tensor(0.2130) tensor(0.2085) tensor(0.0230)\n",
      "8 tensor(1.0870) tensor(0.2130) tensor(0.2085) tensor(0.0230)\n",
      "9 tensor(1.0870) tensor(0.2130) tensor(0.2085) tensor(0.0230)\n",
      "10 tensor(1.0870) tensor(0.2130) tensor(0.2085) tensor(0.0230)\n",
      "11 tensor(1.0870) tensor(0.2130) tensor(0.2085) tensor(0.0230)\n",
      "12 tensor(1.0870) tensor(0.2130) tensor(0.2085) tensor(0.0230)\n",
      "13 tensor(1.0870) tensor(0.2130) tensor(0.2085) tensor(0.0230)\n",
      "14 tensor(1.0870) tensor(0.2130) tensor(0.2085) tensor(0.0230)\n"
     ]
    }
   ],
   "source": [
    "os.makedirs(f'cyber_result/true_L1/{noise_type}/NormalNoRE', exist_ok=True)\n",
    "NormalNoRE_res_list = []\n",
    "\n",
    "for i in range(output.size(0)):\n",
    "    for feature_number in range(output.size(2)):\n",
    "        plt.plot(output[i,:,feature_number].numpy())\n",
    "        plt.plot(output_back[i,:,feature_number].numpy())\n",
    "        plt.plot(data_normal_noRE[i,:,feature_number].numpy())\n",
    "        plt.legend(['Generated', 'Generated Back', 'Normal data with no RE'])\n",
    "        plt.savefig(f'cyber_result/true_L1/{noise_type}/NormalNoRE/output_{i}_feature{feature_number}.png')\n",
    "        plt.close()\n",
    "    dist1 = torch.mean(np.abs(data_normal_noRE[i] - output[i]))\n",
    "    dist2 = torch.mean(np.abs(output[i] - output_back[i]))\n",
    "    dist3 = torch.mean(np.abs(output_back[i] - data_normal_noRE[i]))\n",
    "    res = (dist2+dist3)/dist1\n",
    "    NormalNoRE_res_list.append(res)\n",
    "    print(i, res, dist1, dist2, dist3)"
   ]
  },
  {
   "cell_type": "code",
   "execution_count": 15,
   "metadata": {},
   "outputs": [],
   "source": [
    "plt.figure()\n",
    "# Scatter plot with individual colors for each point\n",
    "plt.scatter(range(len(NormalNoRE_res_list)), NormalNoRE_res_list, color='red')\n",
    "plt.xlabel('Index')\n",
    "plt.ylabel(r'$\\frac{d_2+d_3}{d_1}$')\n",
    "plt.title('Test: Normal data with no RE')\n",
    "plt.savefig(f'cyber_result/true_L1/{noise_type}/NormalNoRE.png')\n",
    "plt.close()"
   ]
  },
  {
   "cell_type": "markdown",
   "metadata": {},
   "source": [
    "# Experiment on Attacked (no RE)"
   ]
  },
  {
   "cell_type": "code",
   "execution_count": 16,
   "metadata": {},
   "outputs": [
    {
     "name": "stdout",
     "output_type": "stream",
     "text": [
      "tensor(0.9702) tensor(0.9684) tensor(0.9687)\n",
      "tensor(0.0357) tensor(0.0362) tensor(0.0370)\n",
      "Output size: torch.Size([15, 2045, 33]) \t Output Back size: torch.Size([15, 2045, 33])\n"
     ]
    }
   ],
   "source": [
    "with torch.no_grad():\n",
    "    output = G_AB(data_attacked_noRE)\n",
    "    output_back = G_BA(output)\n",
    "    print(D_A(data_attacked_noRE).mean(), D_A(output).mean(), D_A(output_back).mean())\n",
    "    print(D_B(data_attacked_noRE).mean(), D_B(output).mean(), D_B(output_back).mean())\n",
    "print(f\"Output size: {output.size()} \\t Output Back size: {output_back.size()}\")"
   ]
  },
  {
   "cell_type": "code",
   "execution_count": 17,
   "metadata": {},
   "outputs": [
    {
     "name": "stdout",
     "output_type": "stream",
     "text": [
      "0 tensor(1.9039) tensor(0.1875) tensor(0.2317) tensor(0.1254)\n",
      "1 tensor(1.8994) tensor(0.1879) tensor(0.2317) tensor(0.1253)\n",
      "2 tensor(1.9057) tensor(0.1881) tensor(0.2315) tensor(0.1269)\n",
      "3 tensor(1.9181) tensor(0.1872) tensor(0.2321) tensor(0.1270)\n",
      "4 tensor(1.8943) tensor(0.1882) tensor(0.2316) tensor(0.1248)\n",
      "5 tensor(1.8944) tensor(0.1882) tensor(0.2317) tensor(0.1249)\n",
      "6 tensor(1.9012) tensor(0.1879) tensor(0.2318) tensor(0.1255)\n",
      "7 tensor(1.8639) tensor(0.1916) tensor(0.2316) tensor(0.1254)\n",
      "8 tensor(1.8708) tensor(0.1912) tensor(0.2319) tensor(0.1258)\n",
      "9 tensor(1.9036) tensor(0.1878) tensor(0.2318) tensor(0.1257)\n",
      "10 tensor(1.8775) tensor(0.1901) tensor(0.2317) tensor(0.1252)\n",
      "11 tensor(1.8810) tensor(0.1901) tensor(0.2319) tensor(0.1257)\n",
      "12 tensor(1.9010) tensor(0.1880) tensor(0.2318) tensor(0.1256)\n",
      "13 tensor(1.8785) tensor(0.1911) tensor(0.2319) tensor(0.1272)\n",
      "14 tensor(1.8945) tensor(0.1882) tensor(0.2316) tensor(0.1250)\n"
     ]
    }
   ],
   "source": [
    "os.makedirs(f'cyber_result/true_L1/{noise_type}/AttackedNoRE', exist_ok=True)\n",
    "AttackedNoRE_res_list = []\n",
    "\n",
    "for i in range(output.size(0)):\n",
    "    for feature_number in range(output.size(2)):\n",
    "        plt.plot(output[i,:,feature_number].numpy())\n",
    "        plt.plot(output_back[i,:,feature_number].numpy())\n",
    "        plt.plot(data_attacked_noRE[i,:,feature_number].numpy())\n",
    "        plt.legend(['Generated', 'Generated Back', 'Attacked data with no RE'])\n",
    "        plt.savefig(f'cyber_result/true_L1/{noise_type}/AttackedNoRE/output_{i}_feature{feature_number}.png')\n",
    "        plt.close()\n",
    "    dist1 = torch.mean(np.abs(data_attacked_noRE[i] - output[i]))\n",
    "    dist2 = torch.mean(np.abs(output[i] - output_back[i]))\n",
    "    dist3 = torch.mean(np.abs(output_back[i] - data_attacked_noRE[i]))\n",
    "    res = (dist2+dist3)/dist1\n",
    "    AttackedNoRE_res_list.append(res)\n",
    "    print(i, res, dist1, dist2, dist3)"
   ]
  },
  {
   "cell_type": "code",
   "execution_count": 18,
   "metadata": {},
   "outputs": [],
   "source": [
    "plt.figure()\n",
    "# Assuming res_list and threshold are defined as in your code\n",
    "colors = ['red' if res > threshold else 'blue' for res in AttackedNoRE_res_list]\n",
    "# Scatter plot with individual colors for each point\n",
    "plt.scatter(range(len(AttackedNoRE_res_list)), AttackedNoRE_res_list, color='red')\n",
    "# plt.axhline(y=threshold, color='red', linestyle='--')\n",
    "plt.xlabel('Index')\n",
    "plt.ylabel(r'$\\frac{d_2+d_3}{d_1}$')\n",
    "plt.title('Test: Attacked data with no RE')\n",
    "plt.savefig(f'cyber_result/true_L1/{noise_type}/AttackedNoRE.png')\n",
    "plt.close()"
   ]
  },
  {
   "cell_type": "markdown",
   "metadata": {},
   "source": [
    "# Compare 2 situations with no RE"
   ]
  },
  {
   "cell_type": "code",
   "execution_count": 19,
   "metadata": {},
   "outputs": [],
   "source": [
    "# Assuming forward_res_list and detection_res_list are defined as in your code\n",
    "# threshold = 1.13\n",
    "\n",
    "# Scatter plot with individual colors for each point\n",
    "plt.scatter(range(len(NormalNoRE_res_list)), NormalNoRE_res_list, color='blue', label='Normal')\n",
    "plt.scatter(range(len(AttackedNoRE_res_list)), AttackedNoRE_res_list, color='red', label='Attacked')\n",
    "\n",
    "# # Add a horizontal line at the threshold value\n",
    "# plt.axhline(y=threshold, color='black', linestyle='--')\n",
    "\n",
    "# Set the labels and title\n",
    "plt.xlabel('Index')\n",
    "plt.ylabel('Res')\n",
    "plt.title('Comparison of Normal and Attacked Results (No RE)')\n",
    "\n",
    "# Add a legend\n",
    "plt.legend()\n",
    "\n",
    "plt.savefig(f'cyber_result/true_L1/{noise_type}/ComparisonNoRE.png')\n",
    "plt.close()"
   ]
  },
  {
   "cell_type": "markdown",
   "metadata": {},
   "source": [
    "---"
   ]
  },
  {
   "cell_type": "markdown",
   "metadata": {},
   "source": [
    "# Compare 4 situations"
   ]
  },
  {
   "cell_type": "code",
   "execution_count": 20,
   "metadata": {},
   "outputs": [
    {
     "data": {
      "image/png": "[encoded data removed]",
      "text/plain": [
       "<Figure size 640x480 with 1 Axes>"
      ]
     },
     "metadata": {},
     "output_type": "display_data"
    }
   ],
   "source": [
    "import matplotlib.pyplot as plt\n",
    "\n",
    "AttackedNoRE_res_list.sort()\n",
    "AttackedRE_res_list.sort()\n",
    "NormalRE_res_list.sort()\n",
    "\n",
    "colors = ['blue', 'green', 'red', 'black']\n",
    "\n",
    "plt.scatter(range(len(NormalNoRE_res_list)), NormalNoRE_res_list, color=colors[0], label='NormalNoRE')\n",
    "plt.plot(range(len(NormalNoRE_res_list)), NormalNoRE_res_list, color=colors[0])\n",
    "\n",
    "plt.scatter(range(len(AttackedNoRE_res_list)), AttackedNoRE_res_list, color=colors[1], label='AttackedNoRE')\n",
    "plt.plot(range(len(AttackedNoRE_res_list)), AttackedNoRE_res_list, color=colors[1])\n",
    "\n",
    "plt.scatter(range(len(NormalRE_res_list)), NormalRE_res_list, color=colors[2], label='NormalRE')\n",
    "plt.plot(range(len(NormalRE_res_list)), NormalRE_res_list, color=colors[2])\n",
    "\n",
    "plt.scatter(range(len(AttackedRE_res_list)), AttackedRE_res_list, color=colors[3], label='AttackedRE')\n",
    "plt.plot(range(len(AttackedRE_res_list)), AttackedRE_res_list, color=colors[3])\n",
    "\n",
    "plt.axhline(y=threshold, color='black', linestyle='--')\n",
    "\n",
    "plt.legend()\n",
    "plt.title('Comparison of NormalNoRE, AttackedNoRE, NormalRE and AttackedRE Results')\n",
    "\n",
    "plt.savefig(f'cyber_result/true_L1/{noise_type}/Comparison4.png')"
   ]
  }
 ],
 "metadata": {
  "kernelspec": {
   "display_name": "GAN",
   "language": "python",
   "name": "python3"
  },
  "language_info": {
   "codemirror_mode": {
    "name": "ipython",
    "version": 3
   },
   "file_extension": ".py",
   "mimetype": "text/x-python",
   "name": "python",
   "nbconvert_exporter": "python",
   "pygments_lexer": "ipython3",
   "version": "3.12.2"
  }
 },
 "nbformat": 4,
 "nbformat_minor": 2
}
