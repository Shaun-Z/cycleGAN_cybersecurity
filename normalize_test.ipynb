{
 "cells": [
  {
   "cell_type": "code",
   "execution_count": 1,
   "metadata": {},
   "outputs": [],
   "source": [
    "import torch\n",
    "from torch.utils.data import Dataset, DataLoader\n",
    "import pandas as pd\n",
    "import numpy as np\n",
    "import itertools"
   ]
  },
  {
   "cell_type": "code",
   "execution_count": 2,
   "metadata": {},
   "outputs": [],
   "source": [
    "def normalize(x):\n",
    "    \"\"\"Normalize input in [-1,1] range per feature across all batches and time steps\"\"\"\n",
    "    # 计算每个特征的最大值和最小值\n",
    "    max = x.max(dim=0, keepdim=True)[0].max(dim=1, keepdim=True)[0]\n",
    "    min = x.min(dim=0, keepdim=True)[0].min(dim=1, keepdim=True)[0]\n",
    "    \n",
    "    # 对每个特征进行归一化\n",
    "    x_normalized = (2 * (x - min) / (max - min) - 1)\n",
    "    \n",
    "    return x_normalized"
   ]
  },
  {
   "cell_type": "code",
   "execution_count": 3,
   "metadata": {},
   "outputs": [
    {
     "data": {
      "text/plain": [
       "torch.Size([3, 3, 3])"
      ]
     },
     "execution_count": 3,
     "metadata": {},
     "output_type": "execute_result"
    }
   ],
   "source": [
    "x = torch.tensor([[[1, 2, 3], [4, 5, 6], [7, 8, 9]],\n",
    "                  [[1, 2, 3], [4, 5, 6], [7, 8, 9]],\n",
    "                  [[1, 2, 3], [4, 5, 6], [7, 8, 9]]], dtype=torch.float32)\n",
    "x.shape"
   ]
  }
 ],
 "metadata": {
  "kernelspec": {
   "display_name": "GAN",
   "language": "python",
   "name": "python3"
  },
  "language_info": {
   "codemirror_mode": {
    "name": "ipython",
    "version": 3
   },
   "file_extension": ".py",
   "mimetype": "text/x-python",
   "name": "python",
   "nbconvert_exporter": "python",
   "pygments_lexer": "ipython3",
   "version": "3.12.2"
  }
 },
 "nbformat": 4,
 "nbformat_minor": 2
}
