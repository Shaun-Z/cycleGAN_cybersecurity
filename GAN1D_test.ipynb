{
 "cells": [
  {
   "cell_type": "code",
   "execution_count": 1,
   "metadata": {},
   "outputs": [],
   "source": [
    "from models import *\n",
    "from dataset.time_dataset import TsDataset\n",
    "from pathlib import Path\n",
    "from matplotlib import pyplot as plt"
   ]
  },
  {
   "cell_type": "code",
   "execution_count": 2,
   "metadata": {},
   "outputs": [],
   "source": [
    "batch_size = 5"
   ]
  },
  {
   "cell_type": "code",
   "execution_count": 3,
   "metadata": {},
   "outputs": [],
   "source": [
    "datapath = Path('data')\n",
    "dataset = TsDataset(datapath/'CaseI-Attacks without any change.csv')\n",
    "dataloader = torch.utils.data.DataLoader(dataset, batch_size=batch_size,\n",
    "                                         shuffle=True, num_workers=4)"
   ]
  },
  {
   "cell_type": "code",
   "execution_count": 4,
   "metadata": {},
   "outputs": [
    {
     "data": {
      "text/plain": [
       "(torch.Size([33, 576]), torch.Size([33, 15, 576]))"
      ]
     },
     "execution_count": 4,
     "metadata": {},
     "output_type": "execute_result"
    }
   ],
   "source": [
    "dataset.data_normal.size(), dataset.data_abnormal.size()"
   ]
  },
  {
   "cell_type": "code",
   "execution_count": 5,
   "metadata": {},
   "outputs": [
    {
     "data": {
      "text/plain": [
       "(576, 576, 33)"
      ]
     },
     "execution_count": 5,
     "metadata": {},
     "output_type": "execute_result"
    }
   ],
   "source": [
    "normal_dim = dataset.data_normal.size(1)\n",
    "abnormal_dim = dataset.data_abnormal.size(2)\n",
    "in_dim = dataset.__len__()\n",
    "normal_dim, abnormal_dim, in_dim"
   ]
  },
  {
   "cell_type": "code",
   "execution_count": 6,
   "metadata": {},
   "outputs": [],
   "source": [
    "gen_A = LSTMGenerator(normal_dim, normal_dim)\n",
    "dis_A = LSTMDiscriminator(normal_dim)\n",
    "\n",
    "gen_B = LSTMGenerator(abnormal_dim, abnormal_dim)\n",
    "dis_B = LSTMDiscriminator(abnormal_dim)"
   ]
  },
  {
   "cell_type": "code",
   "execution_count": 7,
   "metadata": {},
   "outputs": [
    {
     "name": "stdout",
     "output_type": "stream",
     "text": [
      "<class 'torch.Tensor'> torch.Size([5, 576])\n",
      "<class 'torch.Tensor'> torch.Size([5, 576])\n",
      "<class 'torch.Tensor'> torch.Size([5, 576])\n",
      "<class 'torch.Tensor'> torch.Size([5, 576])\n",
      "<class 'torch.Tensor'> torch.Size([5, 576])\n",
      "<class 'torch.Tensor'> torch.Size([5, 576])\n",
      "<class 'torch.Tensor'> torch.Size([3, 576])\n"
     ]
    }
   ],
   "source": [
    "for i, batch in enumerate(dataloader):\n",
    "    normal_A = batch[\"Normal\"]\n",
    "    print(type(normal_A), normal_A.size())"
   ]
  },
  {
   "cell_type": "code",
   "execution_count": 12,
   "metadata": {},
   "outputs": [
    {
     "name": "stdout",
     "output_type": "stream",
     "text": [
      "torch.Size([5, 1, 2045])\n",
      "torch.Size([5, 1, 576])\n",
      "torch.Size([5, 1, 2045])\n",
      "torch.Size([5, 1, 576])\n",
      "torch.Size([5, 1, 2045])\n",
      "torch.Size([5, 1, 576])\n",
      "torch.Size([5, 1, 2045])\n",
      "torch.Size([5, 1, 576])\n",
      "torch.Size([5, 1, 2045])\n",
      "torch.Size([5, 1, 576])\n",
      "torch.Size([5, 1, 2045])\n",
      "torch.Size([5, 1, 576])\n",
      "torch.Size([3, 1, 2045])\n",
      "torch.Size([3, 1, 576])\n"
     ]
    }
   ],
   "source": [
    "for i, batch in enumerate(dataloader):\n",
    "    normal_A = batch[\"Normal\"].unsqueeze(1)\n",
    "    gen_out_A = gen_A(normal_A)\n",
    "    dis_out_A = dis_A(gen_out_A)\n",
    "    print(gen_out_A.size())\n",
    "\n",
    "    abnormal_B = batch[\"Abnormal\"].unsqueeze(1)\n",
    "    gen_out_B = gen_B(abnormal_B)\n",
    "    dis_out_B = dis_B(gen_out_B)\n",
    "    print(gen_out_B.size())\n",
    "    # plt.figure()\n",
    "    # plt.plot(gen_out[0][0].detach().numpy(),'-*')\n",
    "    # plt.grid(True)  # Add grid lines\n",
    "    # plt.show()"
   ]
  }
 ],
 "metadata": {
  "kernelspec": {
   "display_name": "GAN",
   "language": "python",
   "name": "python3"
  },
  "language_info": {
   "codemirror_mode": {
    "name": "ipython",
    "version": 3
   },
   "file_extension": ".py",
   "mimetype": "text/x-python",
   "name": "python",
   "nbconvert_exporter": "python",
   "pygments_lexer": "ipython3",
   "version": "3.12.2"
  }
 },
 "nbformat": 4,
 "nbformat_minor": 2
}
