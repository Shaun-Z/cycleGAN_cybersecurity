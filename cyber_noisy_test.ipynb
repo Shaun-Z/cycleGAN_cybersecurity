{
 "cells": [
  {
   "cell_type": "code",
   "execution_count": 1,
   "metadata": {},
   "outputs": [],
   "source": [
    "import torchvision.transforms as transforms\n",
    "from torchvision.utils import save_image, make_grid\n",
    "\n",
    "from torch.utils.data import DataLoader\n",
    "from torchvision import datasets\n",
    "from torch.autograd import Variable\n",
    "\n",
    "from models import *\n",
    "from datasets import *\n",
    "from utils import *\n",
    "\n",
    "import torch.nn as nn\n",
    "import torch.nn.functional as F\n",
    "import torch\n",
    "\n",
    "from dataset.time_dataset import TsFinalDataset\n",
    "from pathlib import Path\n",
    "\n",
    "import matplotlib.pyplot as plt\n",
    "\n",
    "from dtw import dtw"
   ]
  },
  {
   "cell_type": "code",
   "execution_count": 2,
   "metadata": {},
   "outputs": [],
   "source": [
    "noise_type='gaussian'"
   ]
  },
  {
   "cell_type": "code",
   "execution_count": 3,
   "metadata": {},
   "outputs": [
    {
     "name": "stdout",
     "output_type": "stream",
     "text": [
      "The size of the dataset is:  torch.Size([1, 2045, 33]) torch.Size([1, 2045, 33])\n"
     ]
    }
   ],
   "source": [
    "# Dataset loader\n",
    "datapath = Path('data')\n",
    "dataset = TsFinalDataset(datapath/'CaseI-Attacks without any change.csv', noise_type=noise_type)\n",
    "dataloader = torch.utils.data.DataLoader(dataset, batch_size=1,\n",
    "                                        shuffle=True, num_workers=4)\n",
    "print(\"The size of the dataset is: \", dataset.data_normal.size(), dataset.data_attacked.size())"
   ]
  },
  {
   "cell_type": "code",
   "execution_count": 4,
   "metadata": {},
   "outputs": [],
   "source": [
    "normal_seq_len = dataset.data_normal.size(1)\n",
    "normal_feature_len = dataset.data_normal.size(2)\n",
    "abnormal_seq_len = dataset.data_attacked.size(1)\n",
    "abnormal_feature_len = dataset.data_attacked.size(2)"
   ]
  },
  {
   "cell_type": "code",
   "execution_count": 5,
   "metadata": {},
   "outputs": [],
   "source": [
    "G_AB = LSTMFullGenerator(normal_seq_len, normal_feature_len)\n",
    "G_BA = LSTMFullGenerator(abnormal_seq_len, abnormal_feature_len)\n",
    "D_A = LSTMFullDiscriminator(normal_feature_len)\n",
    "D_B = LSTMFullDiscriminator(normal_feature_len)"
   ]
  },
  {
   "cell_type": "code",
   "execution_count": 6,
   "metadata": {},
   "outputs": [
    {
     "data": {
      "text/plain": [
       "<All keys matched successfully>"
      ]
     },
     "execution_count": 6,
     "metadata": {},
     "output_type": "execute_result"
    }
   ],
   "source": [
    "G_AB.load_state_dict(torch.load(f\"saved_models/true/{noise_type}/G_AB_190.pth\"))\n",
    "G_BA.load_state_dict(torch.load(f\"saved_models/true/{noise_type}/G_BA_190.pth\"))\n",
    "D_A.load_state_dict(torch.load(f\"saved_models/true/{noise_type}/D_A_190.pth\"))\n",
    "D_B.load_state_dict(torch.load(f\"saved_models/true/{noise_type}/D_B_190.pth\"))"
   ]
  },
  {
   "cell_type": "code",
   "execution_count": 7,
   "metadata": {},
   "outputs": [
    {
     "data": {
      "text/plain": [
       "LSTMFullDiscriminator(\n",
       "  (lstm): LSTM(33, 256, batch_first=True)\n",
       "  (linear): Sequential(\n",
       "    (0): Linear(in_features=256, out_features=33, bias=True)\n",
       "    (1): Sigmoid()\n",
       "  )\n",
       ")"
      ]
     },
     "execution_count": 7,
     "metadata": {},
     "output_type": "execute_result"
    }
   ],
   "source": [
    "G_AB.eval()\n",
    "G_BA.eval()\n",
    "D_A.eval()\n",
    "D_B.eval()"
   ]
  },
  {
   "cell_type": "code",
   "execution_count": 8,
   "metadata": {},
   "outputs": [],
   "source": [
    "threshold = 1.007"
   ]
  },
  {
   "cell_type": "code",
   "execution_count": 9,
   "metadata": {},
   "outputs": [
    {
     "data": {
      "text/plain": [
       "torch.Size([15, 1973, 33])"
      ]
     },
     "execution_count": 9,
     "metadata": {},
     "output_type": "execute_result"
    }
   ],
   "source": [
    "dataset_test = TsFinalDataset(datapath/'CaseII.csv', noise_type='none')\n",
    "# dataset_test = TsFullDataset(datapath/'CaseI-Attacks without any change.csv')\n",
    "dataset_test.data_normal.size()"
   ]
  },
  {
   "cell_type": "code",
   "execution_count": 10,
   "metadata": {},
   "outputs": [
    {
     "name": "stdout",
     "output_type": "stream",
     "text": [
      "Output size: torch.Size([15, 1973, 33]) \t Output Back size: torch.Size([15, 1973, 33])\n"
     ]
    }
   ],
   "source": [
    "with torch.no_grad():\n",
    "    output = G_AB(dataset_test.data_normal)\n",
    "    output_back = G_BA(output)\n",
    "print(f\"Output size: {output.size()} \\t Output Back size: {output_back.size()}\")"
   ]
  },
  {
   "cell_type": "code",
   "execution_count": 11,
   "metadata": {},
   "outputs": [
    {
     "name": "stdout",
     "output_type": "stream",
     "text": [
      "+ 1.000450552578472\n",
      "+ 1.0004505525314251\n",
      "+ 1.0004505525314251\n",
      "+ 1.0004505525314251\n",
      "+ 1.0004505525314251\n",
      "+ 1.0004505524961187\n",
      "+ 1.0004505525314251\n",
      "+ 1.0004505525314251\n",
      "+ 1.0004505525314251\n",
      "+ 1.0004505525314251\n",
      "+ 1.0004505525314251\n",
      "+ 1.0004505525314251\n",
      "+ 1.0004505525314251\n",
      "+ 1.0004505525314251\n",
      "+ 1.0004505525196634\n"
     ]
    }
   ],
   "source": [
    "os.makedirs(f'cyber_result/true/{noise_type}/forward', exist_ok=True)\n",
    "forward_res_list = []\n",
    "for i in range(output.size(0)):\n",
    "    plt.plot(output[i, :, 0].numpy())\n",
    "    plt.plot(output_back[i, :, 0].numpy())\n",
    "    plt.plot(dataset_test.data_normal[i, :, 0].numpy())\n",
    "    plt.legend(['Generated', 'Generated Back', 'Original'])\n",
    "    plt.savefig(f'cyber_result/true/{noise_type}/forward/output_{i}.png')\n",
    "    plt.close()\n",
    "\n",
    "    dist1, cost, acc, path = dtw(output[i,:,0].reshape(-1, 1), dataset_test.data_normal[i,:,0].reshape(-1, 1), dist=lambda x, y: np.linalg.norm(x - y, ord=1))\n",
    "    dist2, cost, acc, path = dtw(output_back[i,:,0].reshape(-1, 1), output[i,:,0].reshape(-1, 1), dist=lambda x, y: np.linalg.norm(x - y, ord=1))\n",
    "    dist3, cost, acc, path = dtw(output_back[i,:,0].reshape(-1, 1), dataset_test.data_normal[i,:,0].reshape(-1, 1), dist=lambda x, y: np.linalg.norm(x - y, ord=1))\n",
    "    res = (dist2+dist3)/dist1\n",
    "    print(\"+\" if res < threshold else \"-\", res)\n",
    "    forward_res_list.append(res)"
   ]
  },
  {
   "cell_type": "code",
   "execution_count": 12,
   "metadata": {},
   "outputs": [
    {
     "data": {
      "image/png": "[encoded data removed]",
      "text/plain": [
       "<Figure size 640x480 with 1 Axes>"
      ]
     },
     "metadata": {},
     "output_type": "display_data"
    }
   ],
   "source": [
    "plt.figure()\n",
    "# Assuming res_list and threshold are defined as in your code\n",
    "colors = ['red' if res > threshold else 'blue' for res in forward_res_list]\n",
    "# Scatter plot with individual colors for each point\n",
    "plt.scatter(range(len(forward_res_list)), forward_res_list, color=colors)\n",
    "plt.axhline(y=threshold, color='red', linestyle='--')\n",
    "plt.xlabel('Index')\n",
    "plt.ylabel('Res')\n",
    "plt.title('Normal with RE Test')\n",
    "plt.show()"
   ]
  },
  {
   "cell_type": "markdown",
   "metadata": {},
   "source": [
    "---"
   ]
  },
  {
   "cell_type": "code",
   "execution_count": 13,
   "metadata": {},
   "outputs": [
    {
     "data": {
      "text/plain": [
       "torch.Size([15, 1973, 33])"
      ]
     },
     "execution_count": 13,
     "metadata": {},
     "output_type": "execute_result"
    }
   ],
   "source": [
    "dataset_test.data_attacked.size()"
   ]
  },
  {
   "cell_type": "code",
   "execution_count": 14,
   "metadata": {},
   "outputs": [
    {
     "data": {
      "text/plain": [
       "torch.Size([1, 2045, 33])"
      ]
     },
     "execution_count": 14,
     "metadata": {},
     "output_type": "execute_result"
    }
   ],
   "source": [
    "data_noisy_test = dataset.data_attacked\n",
    "data_noisy_test.size()"
   ]
  },
  {
   "cell_type": "code",
   "execution_count": 15,
   "metadata": {},
   "outputs": [
    {
     "name": "stdout",
     "output_type": "stream",
     "text": [
      "Output size: torch.Size([1, 2045, 33]) \t Output Back size: torch.Size([1, 2045, 33])\n"
     ]
    }
   ],
   "source": [
    "with torch.no_grad():\n",
    "    output = G_AB(data_noisy_test)\n",
    "    output_back = G_BA(output)\n",
    "print(f\"Output size: {output.size()} \\t Output Back size: {output_back.size()}\")"
   ]
  },
  {
   "cell_type": "code",
   "execution_count": 16,
   "metadata": {},
   "outputs": [
    {
     "name": "stdout",
     "output_type": "stream",
     "text": [
      "+ 1.000041228553356\n"
     ]
    }
   ],
   "source": [
    "os.makedirs(f'cyber_result/true/{noise_type}/detection', exist_ok=True)\n",
    "detection_res_list = []\n",
    "for i in range(output.size(0)):\n",
    "    plt.plot(output[i, :, 0].numpy())\n",
    "    plt.plot(output_back[i, :, 0].numpy())\n",
    "    plt.plot(data_noisy_test[i, :, 0].numpy())\n",
    "    plt.legend(['Generated', 'Generated Back', 'Original'])\n",
    "    plt.savefig(f'cyber_result/true/{noise_type}/detection/output_{i}.png')\n",
    "    plt.close()\n",
    "\n",
    "    dist1, cost, acc, path = dtw(output[i,0,:].reshape(-1, 1), data_noisy_test[i, :].reshape(-1, 1), dist=lambda x, y: np.linalg.norm(x - y, ord=1))\n",
    "    dist2, cost, acc, path = dtw(output_back[i,0,:].reshape(-1, 1), output[i,0,:].reshape(-1, 1), dist=lambda x, y: np.linalg.norm(x - y, ord=1))\n",
    "    dist3, cost, acc, path = dtw(output_back[i,0,:].reshape(-1, 1), data_noisy_test[i, :].reshape(-1, 1), dist=lambda x, y: np.linalg.norm(x - y, ord=1)) \n",
    "    res = (dist2+dist3)/dist1   \n",
    "    print(\"+\" if res < threshold else \"-\", res)\n",
    "    detection_res_list.append(res)"
   ]
  },
  {
   "cell_type": "code",
   "execution_count": 17,
   "metadata": {},
   "outputs": [
    {
     "data": {
      "image/png": "[encoded data removed]",
      "text/plain": [
       "<Figure size 640x480 with 1 Axes>"
      ]
     },
     "metadata": {},
     "output_type": "display_data"
    }
   ],
   "source": [
    "plt.figure()\n",
    "# Assuming res_list and threshold are defined as in your code\n",
    "colors = ['red' if res > threshold else 'blue' for res in detection_res_list]\n",
    "# Scatter plot with individual colors for each point\n",
    "plt.scatter(range(len(detection_res_list)), detection_res_list, color=colors)\n",
    "plt.axhline(y=threshold, color='red', linestyle='--')\n",
    "plt.xlabel('Index')\n",
    "plt.ylabel('Res')\n",
    "plt.title('Test: Attacked data with RE')\n",
    "plt.show()"
   ]
  },
  {
   "cell_type": "code",
   "execution_count": 18,
   "metadata": {},
   "outputs": [
    {
     "data": {
      "text/plain": [
       "[1.000450552578472,\n",
       " 1.0004505525314251,\n",
       " 1.0004505525314251,\n",
       " 1.0004505525314251,\n",
       " 1.0004505525314251,\n",
       " 1.0004505525314251,\n",
       " 1.0004505525314251,\n",
       " 1.0004505525314251,\n",
       " 1.0004505525314251,\n",
       " 1.0004505525314251,\n",
       " 1.0004505525314251,\n",
       " 1.0004505525314251,\n",
       " 1.0004505525314251,\n",
       " 1.0004505525196634,\n",
       " 1.0004505524961187]"
      ]
     },
     "execution_count": 18,
     "metadata": {},
     "output_type": "execute_result"
    }
   ],
   "source": [
    "sorted(forward_res_list, reverse=True)"
   ]
  },
  {
   "cell_type": "code",
   "execution_count": 19,
   "metadata": {},
   "outputs": [
    {
     "data": {
      "text/plain": [
       "[1.000041228553356]"
      ]
     },
     "execution_count": 19,
     "metadata": {},
     "output_type": "execute_result"
    }
   ],
   "source": [
    "sorted(detection_res_list, reverse=True)"
   ]
  }
 ],
 "metadata": {
  "kernelspec": {
   "display_name": "GAN",
   "language": "python",
   "name": "python3"
  },
  "language_info": {
   "codemirror_mode": {
    "name": "ipython",
    "version": 3
   },
   "file_extension": ".py",
   "mimetype": "text/x-python",
   "name": "python",
   "nbconvert_exporter": "python",
   "pygments_lexer": "ipython3",
   "version": "3.12.2"
  }
 },
 "nbformat": 4,
 "nbformat_minor": 2
}
