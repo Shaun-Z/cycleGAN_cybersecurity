{
 "cells": [
  {
   "cell_type": "code",
   "execution_count": 1,
   "metadata": {},
   "outputs": [],
   "source": [
    "import argparse\n",
    "import os\n",
    "import numpy as np\n",
    "import math\n",
    "import itertools\n",
    "import datetime\n",
    "import time\n",
    "\n",
    "import torchvision.transforms as transforms\n",
    "from torchvision.utils import save_image, make_grid\n",
    "\n",
    "from torch.utils.data import DataLoader\n",
    "from torchvision import datasets\n",
    "from torch.autograd import Variable\n",
    "\n",
    "from models import *\n",
    "from datasets import *\n",
    "from utils import *\n",
    "\n",
    "import torch.nn as nn\n",
    "import torch.nn.functional as F\n",
    "import torch\n",
    "\n",
    "from dataset.time_dataset import NewTsDataset\n",
    "from pathlib import Path\n",
    "\n",
    "from options.train_options import TrainOptions"
   ]
  },
  {
   "cell_type": "code",
   "execution_count": 2,
   "metadata": {},
   "outputs": [],
   "source": [
    "batch_size = 5"
   ]
  },
  {
   "cell_type": "code",
   "execution_count": 3,
   "metadata": {},
   "outputs": [
    {
     "name": "stdout",
     "output_type": "stream",
     "text": [
      "The size of the dataset is:  torch.Size([33, 1, 576]) torch.Size([33, 15, 576])\n"
     ]
    }
   ],
   "source": [
    "datapath = Path('data')\n",
    "dataset = NewTsDataset(datapath/'CaseI-Attacks without any change.csv')\n",
    "dataloader = torch.utils.data.DataLoader(dataset, batch_size=batch_size,\n",
    "                                        shuffle=True, num_workers=4)\n",
    "print(\"The size of the dataset is: \", dataset.data_normal.size(), dataset.data_abnormal.size())"
   ]
  },
  {
   "cell_type": "code",
   "execution_count": 4,
   "metadata": {},
   "outputs": [],
   "source": [
    "dataloader = torch.utils.data.DataLoader(dataset, batch_size=3,\n",
    "                                         shuffle=True, num_workers=4)"
   ]
  },
  {
   "cell_type": "code",
   "execution_count": 5,
   "metadata": {},
   "outputs": [
    {
     "name": "stdout",
     "output_type": "stream",
     "text": [
      "torch.Size([3, 1, 576])\n",
      "0 torch.Size([3, 1, 576]) torch.Size([3, 15, 576])\n",
      "torch.Size([3, 1, 576])\n",
      "1 torch.Size([3, 1, 576]) torch.Size([3, 15, 576])\n",
      "torch.Size([3, 1, 576])\n",
      "2 torch.Size([3, 1, 576]) torch.Size([3, 15, 576])\n",
      "torch.Size([3, 1, 576])\n",
      "3 torch.Size([3, 1, 576]) torch.Size([3, 15, 576])\n",
      "torch.Size([3, 1, 576])\n",
      "4 torch.Size([3, 1, 576]) torch.Size([3, 15, 576])\n",
      "torch.Size([3, 1, 576])\n",
      "5 torch.Size([3, 1, 576]) torch.Size([3, 15, 576])\n",
      "torch.Size([3, 1, 576])\n",
      "6 torch.Size([3, 1, 576]) torch.Size([3, 15, 576])\n",
      "torch.Size([3, 1, 576])\n",
      "7 torch.Size([3, 1, 576]) torch.Size([3, 15, 576])\n",
      "torch.Size([3, 1, 576])\n",
      "8 torch.Size([3, 1, 576]) torch.Size([3, 15, 576])\n",
      "torch.Size([3, 1, 576])\n",
      "9 torch.Size([3, 1, 576]) torch.Size([3, 15, 576])\n",
      "torch.Size([3, 1, 576])\n",
      "10 torch.Size([3, 1, 576]) torch.Size([3, 15, 576])\n"
     ]
    }
   ],
   "source": [
    "for i, batch in enumerate(dataloader):\n",
    "    real_A = batch[\"Normal\"].clone().detach()\n",
    "    print(real_A.size())\n",
    "    print(i, batch[\"Normal\"].size(), batch[\"Abnormal\"].size())"
   ]
  }
 ],
 "metadata": {
  "kernelspec": {
   "display_name": "GAN",
   "language": "python",
   "name": "python3"
  },
  "language_info": {
   "codemirror_mode": {
    "name": "ipython",
    "version": 3
   },
   "file_extension": ".py",
   "mimetype": "text/x-python",
   "name": "python",
   "nbconvert_exporter": "python",
   "pygments_lexer": "ipython3",
   "version": "3.12.2"
  }
 },
 "nbformat": 4,
 "nbformat_minor": 2
}
