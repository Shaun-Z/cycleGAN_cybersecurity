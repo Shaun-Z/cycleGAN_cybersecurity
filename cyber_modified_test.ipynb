{
 "cells": [
  {
   "cell_type": "code",
   "execution_count": 1,
   "metadata": {},
   "outputs": [],
   "source": [
    "import torchvision.transforms as transforms\n",
    "from torchvision.utils import save_image, make_grid\n",
    "\n",
    "from torch.utils.data import DataLoader\n",
    "from torchvision import datasets\n",
    "from torch.autograd import Variable\n",
    "\n",
    "from models import *\n",
    "from datasets import *\n",
    "from utils import *\n",
    "\n",
    "import torch.nn as nn\n",
    "import torch.nn.functional as F\n",
    "import torch\n",
    "\n",
    "from dataset.time_dataset import TsModifiedDataset\n",
    "from pathlib import Path\n",
    "\n",
    "import matplotlib.pyplot as plt\n",
    "\n",
    "from dtw import dtw"
   ]
  },
  {
   "cell_type": "code",
   "execution_count": 2,
   "metadata": {},
   "outputs": [
    {
     "name": "stdout",
     "output_type": "stream",
     "text": [
      "The size of the dataset is:  torch.Size([33, 15, 1973]) torch.Size([33, 15, 1973])\n"
     ]
    }
   ],
   "source": [
    "# Dataset loader\n",
    "datapath = Path('data')\n",
    "dataset = TsModifiedDataset(datapath/'CaseI-Attacks without any change.csv', noise_type='none')\n",
    "dataloader = torch.utils.data.DataLoader(dataset, batch_size=1,\n",
    "                                        shuffle=True, num_workers=4)\n",
    "print(\"The size of the dataset is: \", dataset.data_normal.size(), dataset.data_attacked.size())"
   ]
  },
  {
   "cell_type": "code",
   "execution_count": 3,
   "metadata": {},
   "outputs": [],
   "source": [
    "normal_seq_len = dataset.data_normal.size(1)\n",
    "normal_feature_len = dataset.data_normal.size(2)\n",
    "attacked_seq_len = dataset.data_attacked.size(1)\n",
    "attacked_feature_len = dataset.data_attacked.size(2)"
   ]
  },
  {
   "cell_type": "code",
   "execution_count": 4,
   "metadata": {},
   "outputs": [],
   "source": [
    "G_AB = LSTMFullGenerator(normal_seq_len, normal_feature_len)\n",
    "G_BA = LSTMFullGenerator(attacked_seq_len, attacked_feature_len)\n",
    "D_A = LSTMFullDiscriminator(normal_feature_len)\n",
    "D_B = LSTMFullDiscriminator(normal_feature_len)"
   ]
  },
  {
   "cell_type": "code",
   "execution_count": 5,
   "metadata": {},
   "outputs": [
    {
     "data": {
      "text/plain": [
       "<All keys matched successfully>"
      ]
     },
     "execution_count": 5,
     "metadata": {},
     "output_type": "execute_result"
    }
   ],
   "source": [
    "G_AB.load_state_dict(torch.load(\"saved_models/cyber_gaussian/G_AB_190.pth\"))\n",
    "G_BA.load_state_dict(torch.load(\"saved_models/cyber_gaussian/G_BA_190.pth\"))\n",
    "D_A.load_state_dict(torch.load(\"saved_models/cyber_gaussian/D_A_190.pth\"))\n",
    "D_B.load_state_dict(torch.load(\"saved_models/cyber_gaussian/D_B_190.pth\"))"
   ]
  },
  {
   "cell_type": "code",
   "execution_count": 6,
   "metadata": {},
   "outputs": [
    {
     "data": {
      "text/plain": [
       "LSTMFullDiscriminator(\n",
       "  (lstm): LSTM(1973, 256, batch_first=True)\n",
       "  (linear): Sequential(\n",
       "    (0): Linear(in_features=256, out_features=1973, bias=True)\n",
       "    (1): Sigmoid()\n",
       "  )\n",
       ")"
      ]
     },
     "execution_count": 6,
     "metadata": {},
     "output_type": "execute_result"
    }
   ],
   "source": [
    "G_AB.eval()\n",
    "G_BA.eval()\n",
    "D_A.eval()\n",
    "D_B.eval()"
   ]
  },
  {
   "cell_type": "code",
   "execution_count": 22,
   "metadata": {},
   "outputs": [],
   "source": [
    "threshold = 2.50"
   ]
  },
  {
   "cell_type": "code",
   "execution_count": 8,
   "metadata": {},
   "outputs": [
    {
     "data": {
      "text/plain": [
       "torch.Size([33, 15, 1973])"
      ]
     },
     "execution_count": 8,
     "metadata": {},
     "output_type": "execute_result"
    }
   ],
   "source": [
    "dataset_test = TsModifiedDataset(datapath/'CaseII.csv', noise_type='none')\n",
    "# dataset_test = TsFinalDataset(datapath/'CaseI-Attacks without any change.csv', noise_type='none')\n",
    "dataset_test.data_normal.size()"
   ]
  },
  {
   "cell_type": "code",
   "execution_count": 9,
   "metadata": {},
   "outputs": [
    {
     "name": "stdout",
     "output_type": "stream",
     "text": [
      "Output size: torch.Size([33, 15, 1973]) \t Output Back size: torch.Size([33, 15, 1973])\n"
     ]
    }
   ],
   "source": [
    "with torch.no_grad():\n",
    "    output = G_AB(dataset_test.data_normal)\n",
    "    output_back = G_BA(output)\n",
    "print(f\"Output size: {output.size()} \\t Output Back size: {output_back.size()}\")"
   ]
  },
  {
   "cell_type": "code",
   "execution_count": 10,
   "metadata": {},
   "outputs": [
    {
     "name": "stdout",
     "output_type": "stream",
     "text": [
      "- 2.3454223389245947\n",
      "+ 1.7288918169192529\n",
      "+ 1.8861529287945458\n",
      "- 2.177516903912769\n",
      "- 2.0125271637596605\n",
      "+ 1.6948415587837637\n",
      "+ 1.6948415587837637\n",
      "+ 1.9318237999137742\n",
      "- 2.014806249048275\n",
      "- 2.035170764800037\n",
      "- 2.226267615803295\n",
      "- 2.293645212121009\n",
      "- 2.3293077012505523\n",
      "+ 0.830416543999204\n",
      "+ 1.5503166588456454\n",
      "+ 1.7940669048850537\n",
      "+ 1.275086852207931\n",
      "+ 1.3096813751722605\n",
      "+ 1.9035975832868837\n",
      "+ 1.6391821166238152\n",
      "+ 1.4855288355117071\n",
      "+ 1.6010039722422078\n",
      "+ 1.4312607368599524\n",
      "+ 1.4260497650618706\n",
      "+ 1.8198541431893138\n",
      "+ 1.9160596112634956\n",
      "- 2.1634509908875628\n",
      "+ 1.4855288355117071\n",
      "+ 1.7264738408708709\n",
      "+ 1.4518413525298763\n",
      "- 2.192565949821701\n",
      "- 2.715152090053944\n",
      "+ 1.6511379554128258\n"
     ]
    }
   ],
   "source": [
    "os.makedirs('cyber_result/gaussian/forward', exist_ok=True)\n",
    "forward_res_list = []\n",
    "for i in range(output.size(0)):\n",
    "    plt.plot(output[i, 0, :].numpy())\n",
    "    plt.plot(output_back[i, 0, :].numpy())\n",
    "    plt.plot(dataset_test.data_normal[i, 0, :].numpy())\n",
    "    plt.legend(['Generated', 'Generated Back', 'Original'])\n",
    "    plt.savefig(f'cyber_result/gaussian/forward/output_{i}.png')\n",
    "    plt.close()\n",
    "\n",
    "    dist1, cost, acc, path = dtw(output[i,0,:].reshape(-1, 1), dataset_test.data_normal[i,0,:].reshape(-1, 1), dist=lambda x, y: np.linalg.norm(x - y, ord=1))\n",
    "    dist2, cost, acc, path = dtw(output_back[i,0,:].reshape(-1, 1), output[i,0,:].reshape(-1, 1), dist=lambda x, y: np.linalg.norm(x - y, ord=1))\n",
    "    dist3, cost, acc, path = dtw(output_back[i,0,:].reshape(-1, 1), dataset_test.data_normal[i,0,:].reshape(-1, 1), dist=lambda x, y: np.linalg.norm(x - y, ord=1))\n",
    "    res = (dist2+dist3)/dist1\n",
    "    print(\"+\" if res < threshold else \"-\", res)\n",
    "    forward_res_list.append(res)"
   ]
  },
  {
   "cell_type": "code",
   "execution_count": 23,
   "metadata": {},
   "outputs": [
    {
     "data": {
      "image/png": "[encoded data removed]",
      "text/plain": [
       "<Figure size 640x480 with 1 Axes>"
      ]
     },
     "metadata": {},
     "output_type": "display_data"
    }
   ],
   "source": [
    "plt.figure()\n",
    "# Assuming res_list and threshold are defined as in your code\n",
    "colors = ['red' if res > threshold else 'blue' for res in forward_res_list]\n",
    "# Scatter plot with individual colors for each point\n",
    "plt.scatter(range(len(forward_res_list)), forward_res_list, color=colors)\n",
    "plt.axhline(y=threshold, color='red', linestyle='--')\n",
    "plt.xlabel('Index')\n",
    "plt.ylabel('Res')\n",
    "plt.title('Test: Normal data with RE')\n",
    "plt.show()"
   ]
  },
  {
   "cell_type": "markdown",
   "metadata": {},
   "source": [
    "---"
   ]
  },
  {
   "cell_type": "code",
   "execution_count": 12,
   "metadata": {},
   "outputs": [
    {
     "data": {
      "text/plain": [
       "torch.Size([33, 15, 1973])"
      ]
     },
     "execution_count": 12,
     "metadata": {},
     "output_type": "execute_result"
    }
   ],
   "source": [
    "dataset_test.data_attacked.size()"
   ]
  },
  {
   "cell_type": "code",
   "execution_count": 16,
   "metadata": {},
   "outputs": [
    {
     "data": {
      "text/plain": [
       "torch.Size([33, 15, 1973])"
      ]
     },
     "execution_count": 16,
     "metadata": {},
     "output_type": "execute_result"
    }
   ],
   "source": [
    "data_attacked_test = dataset_test.data_attacked\n",
    "data_attacked_test.size()"
   ]
  },
  {
   "cell_type": "code",
   "execution_count": 17,
   "metadata": {},
   "outputs": [
    {
     "name": "stdout",
     "output_type": "stream",
     "text": [
      "Output size: torch.Size([33, 15, 1973]) \t Output Back size: torch.Size([33, 15, 1973])\n"
     ]
    }
   ],
   "source": [
    "with torch.no_grad():\n",
    "    output = G_AB(data_attacked_test)\n",
    "    output_back = G_BA(output)\n",
    "print(f\"Output size: {output.size()} \\t Output Back size: {output_back.size()}\")"
   ]
  },
  {
   "cell_type": "code",
   "execution_count": 18,
   "metadata": {},
   "outputs": [
    {
     "name": "stdout",
     "output_type": "stream",
     "text": [
      "+ 1.6121818108503885\n",
      "+ 1.5639171745189797\n",
      "+ 1.5683800401121495\n",
      "+ 1.6097685302455558\n",
      "+ 1.566817273897895\n",
      "+ 1.5571847049790128\n",
      "+ 1.5571847049790128\n",
      "+ 1.5512696853363654\n",
      "+ 1.551961493453116\n",
      "+ 1.558288052161469\n",
      "+ 1.5603192615271326\n",
      "+ 1.5588275073326179\n",
      "+ 1.5482553677490827\n",
      "+ 0.7371501948676473\n",
      "+ 1.4276481271705792\n",
      "+ 1.946140353628805\n",
      "- 2.021632285907531\n",
      "+ 1.5091655589769517\n",
      "+ 1.5978837884783434\n",
      "+ 1.6469347596052375\n",
      "+ 1.4448209811245571\n",
      "+ 1.8218880953770935\n",
      "+ 1.4310635588865637\n",
      "+ 1.5393024050279456\n",
      "+ 1.8361282914806918\n",
      "+ 1.500804449622876\n",
      "+ 1.6469347596052375\n",
      "+ 1.4448209811245571\n",
      "+ 1.6296692778425996\n",
      "+ 1.724510361622205\n",
      "+ 1.5800445285611275\n",
      "+ 1.6795961233006786\n",
      "+ 1.8452473403012397\n"
     ]
    }
   ],
   "source": [
    "os.makedirs('cyber_result/gaussian/detection', exist_ok=True)\n",
    "detection_res_list = []\n",
    "for i in range(output.size(0)):\n",
    "    plt.plot(output[i, 0, :].numpy())\n",
    "    plt.plot(output_back[i, 0, :].numpy())\n",
    "    plt.plot(data_attacked_test[i, 0, :].numpy())\n",
    "    plt.legend(['Generated', 'Generated Back', 'Original'])\n",
    "    plt.savefig(f'cyber_result/gaussian/detection/output_{i}.png')\n",
    "    plt.close()\n",
    "\n",
    "    dist1, cost, acc, path = dtw(output[i,0,:].reshape(-1, 1), data_attacked_test[i, 0, :].reshape(-1, 1), dist=lambda x, y: np.linalg.norm(x - y, ord=1))\n",
    "    dist2, cost, acc, path = dtw(output_back[i,0,:].reshape(-1, 1), output[i,0,:].reshape(-1, 1), dist=lambda x, y: np.linalg.norm(x - y, ord=1))\n",
    "    dist3, cost, acc, path = dtw(output_back[i,0,:].reshape(-1, 1), data_attacked_test[i, 0, :].reshape(-1, 1), dist=lambda x, y: np.linalg.norm(x - y, ord=1)) \n",
    "    res = (dist2+dist3)/dist1   \n",
    "    print(\"+\" if res < threshold else \"-\", res)\n",
    "    detection_res_list.append(res)"
   ]
  },
  {
   "cell_type": "code",
   "execution_count": 24,
   "metadata": {},
   "outputs": [
    {
     "data": {
      "image/png": "[encoded data removed]",
      "text/plain": [
       "<Figure size 640x480 with 1 Axes>"
      ]
     },
     "metadata": {},
     "output_type": "display_data"
    }
   ],
   "source": [
    "plt.figure()\n",
    "# Assuming res_list and threshold are defined as in your code\n",
    "colors = ['red' if res > threshold else 'blue' for res in detection_res_list]\n",
    "# Scatter plot with individual colors for each point\n",
    "plt.scatter(range(len(detection_res_list)), detection_res_list, color=colors)\n",
    "plt.axhline(y=threshold, color='red', linestyle='--')\n",
    "plt.xlabel('Index')\n",
    "plt.ylabel('Res')\n",
    "plt.title('Test: Attacked data with RE')\n",
    "plt.show()"
   ]
  },
  {
   "cell_type": "code",
   "execution_count": 20,
   "metadata": {},
   "outputs": [
    {
     "data": {
      "text/plain": [
       "[2.715152090053944,\n",
       " 2.3454223389245947,\n",
       " 2.3293077012505523,\n",
       " 2.293645212121009,\n",
       " 2.226267615803295,\n",
       " 2.192565949821701,\n",
       " 2.177516903912769,\n",
       " 2.1634509908875628,\n",
       " 2.035170764800037,\n",
       " 2.014806249048275,\n",
       " 2.0125271637596605,\n",
       " 1.9318237999137742,\n",
       " 1.9160596112634956,\n",
       " 1.9035975832868837,\n",
       " 1.8861529287945458,\n",
       " 1.8198541431893138,\n",
       " 1.7940669048850537,\n",
       " 1.7288918169192529,\n",
       " 1.7264738408708709,\n",
       " 1.6948415587837637,\n",
       " 1.6948415587837637,\n",
       " 1.6511379554128258,\n",
       " 1.6391821166238152,\n",
       " 1.6010039722422078,\n",
       " 1.5503166588456454,\n",
       " 1.4855288355117071,\n",
       " 1.4855288355117071,\n",
       " 1.4518413525298763,\n",
       " 1.4312607368599524,\n",
       " 1.4260497650618706,\n",
       " 1.3096813751722605,\n",
       " 1.275086852207931,\n",
       " 0.830416543999204]"
      ]
     },
     "execution_count": 20,
     "metadata": {},
     "output_type": "execute_result"
    }
   ],
   "source": [
    "sorted(forward_res_list, reverse=True)"
   ]
  },
  {
   "cell_type": "code",
   "execution_count": 21,
   "metadata": {},
   "outputs": [
    {
     "data": {
      "text/plain": [
       "[2.021632285907531,\n",
       " 1.946140353628805,\n",
       " 1.8452473403012397,\n",
       " 1.8361282914806918,\n",
       " 1.8218880953770935,\n",
       " 1.724510361622205,\n",
       " 1.6795961233006786,\n",
       " 1.6469347596052375,\n",
       " 1.6469347596052375,\n",
       " 1.6296692778425996,\n",
       " 1.6121818108503885,\n",
       " 1.6097685302455558,\n",
       " 1.5978837884783434,\n",
       " 1.5800445285611275,\n",
       " 1.5683800401121495,\n",
       " 1.566817273897895,\n",
       " 1.5639171745189797,\n",
       " 1.5603192615271326,\n",
       " 1.5588275073326179,\n",
       " 1.558288052161469,\n",
       " 1.5571847049790128,\n",
       " 1.5571847049790128,\n",
       " 1.551961493453116,\n",
       " 1.5512696853363654,\n",
       " 1.5482553677490827,\n",
       " 1.5393024050279456,\n",
       " 1.5091655589769517,\n",
       " 1.500804449622876,\n",
       " 1.4448209811245571,\n",
       " 1.4448209811245571,\n",
       " 1.4310635588865637,\n",
       " 1.4276481271705792,\n",
       " 0.7371501948676473]"
      ]
     },
     "execution_count": 21,
     "metadata": {},
     "output_type": "execute_result"
    }
   ],
   "source": [
    "sorted(detection_res_list, reverse=True)"
   ]
  }
 ],
 "metadata": {
  "kernelspec": {
   "display_name": "GAN",
   "language": "python",
   "name": "python3"
  },
  "language_info": {
   "codemirror_mode": {
    "name": "ipython",
    "version": 3
   },
   "file_extension": ".py",
   "mimetype": "text/x-python",
   "name": "python",
   "nbconvert_exporter": "python",
   "pygments_lexer": "ipython3",
   "version": "3.12.2"
  }
 },
 "nbformat": 4,
 "nbformat_minor": 2
}
