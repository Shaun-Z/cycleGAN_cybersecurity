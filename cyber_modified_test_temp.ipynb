{
 "cells": [
  {
   "cell_type": "code",
   "execution_count": 1,
   "metadata": {},
   "outputs": [],
   "source": [
    "import torchvision.transforms as transforms\n",
    "from torchvision.utils import save_image, make_grid\n",
    "\n",
    "from torch.utils.data import DataLoader\n",
    "from torchvision import datasets\n",
    "from torch.autograd import Variable\n",
    "\n",
    "from models import *\n",
    "from datasets import *\n",
    "from utils import *\n",
    "\n",
    "import torch.nn as nn\n",
    "import torch.nn.functional as F\n",
    "import torch\n",
    "\n",
    "from dataset.time_dataset import TsModifiedDataset\n",
    "from pathlib import Path\n",
    "\n",
    "import matplotlib.pyplot as plt\n",
    "\n",
    "from dtw import dtw"
   ]
  },
  {
   "cell_type": "code",
   "execution_count": 2,
   "metadata": {},
   "outputs": [
    {
     "name": "stdout",
     "output_type": "stream",
     "text": [
      "The size of the dataset is:  torch.Size([33, 15, 1973]) torch.Size([33, 15, 1973])\n"
     ]
    }
   ],
   "source": [
    "# Dataset loader\n",
    "datapath = Path('data')\n",
    "dataset = TsModifiedDataset(datapath/'CaseI-Attacks without any change.csv', noise_type='none')\n",
    "dataloader = torch.utils.data.DataLoader(dataset, batch_size=1,\n",
    "                                        shuffle=True, num_workers=4)\n",
    "print(\"The size of the dataset is: \", dataset.data_normal.size(), dataset.data_attacked.size())"
   ]
  },
  {
   "cell_type": "code",
   "execution_count": 3,
   "metadata": {},
   "outputs": [],
   "source": [
    "normal_seq_len = dataset.data_normal.size(1)\n",
    "normal_feature_len = dataset.data_normal.size(2)\n",
    "attacked_seq_len = dataset.data_attacked.size(1)\n",
    "attacked_feature_len = dataset.data_attacked.size(2)"
   ]
  },
  {
   "cell_type": "code",
   "execution_count": 4,
   "metadata": {},
   "outputs": [],
   "source": [
    "G_AB = LSTMFullGenerator(normal_seq_len, normal_feature_len)\n",
    "G_BA = LSTMFullGenerator(attacked_seq_len, attacked_feature_len)\n",
    "D_A = LSTMFullDiscriminator(normal_feature_len)\n",
    "D_B = LSTMFullDiscriminator(normal_feature_len)"
   ]
  },
  {
   "cell_type": "code",
   "execution_count": 5,
   "metadata": {},
   "outputs": [
    {
     "data": {
      "text/plain": [
       "<All keys matched successfully>"
      ]
     },
     "execution_count": 5,
     "metadata": {},
     "output_type": "execute_result"
    }
   ],
   "source": [
    "G_AB.load_state_dict(torch.load(\"saved_models/cyber_other/G_AB_190.pth\"))\n",
    "G_BA.load_state_dict(torch.load(\"saved_models/cyber_other/G_BA_190.pth\"))\n",
    "D_A.load_state_dict(torch.load(\"saved_models/cyber_other/D_A_190.pth\"))\n",
    "D_B.load_state_dict(torch.load(\"saved_models/cyber_other/D_B_190.pth\"))"
   ]
  },
  {
   "cell_type": "code",
   "execution_count": 6,
   "metadata": {},
   "outputs": [
    {
     "data": {
      "text/plain": [
       "LSTMFullDiscriminator(\n",
       "  (lstm): LSTM(1973, 256, batch_first=True)\n",
       "  (linear): Sequential(\n",
       "    (0): Linear(in_features=256, out_features=1973, bias=True)\n",
       "    (1): Sigmoid()\n",
       "  )\n",
       ")"
      ]
     },
     "execution_count": 6,
     "metadata": {},
     "output_type": "execute_result"
    }
   ],
   "source": [
    "G_AB.eval()\n",
    "G_BA.eval()\n",
    "D_A.eval()\n",
    "D_B.eval()"
   ]
  },
  {
   "cell_type": "code",
   "execution_count": 7,
   "metadata": {},
   "outputs": [],
   "source": [
    "threshold = 2.00"
   ]
  },
  {
   "cell_type": "code",
   "execution_count": 8,
   "metadata": {},
   "outputs": [
    {
     "data": {
      "text/plain": [
       "torch.Size([33, 15, 1973])"
      ]
     },
     "execution_count": 8,
     "metadata": {},
     "output_type": "execute_result"
    }
   ],
   "source": [
    "dataset_test = TsModifiedDataset(datapath/'CaseII.csv', noise_type='none')\n",
    "# dataset_test = TsFinalDataset(datapath/'CaseI-Attacks without any change.csv', noise_type='none')\n",
    "dataset_test.data_normal.size()"
   ]
  },
  {
   "cell_type": "code",
   "execution_count": 9,
   "metadata": {},
   "outputs": [
    {
     "name": "stdout",
     "output_type": "stream",
     "text": [
      "Output size: torch.Size([33, 15, 1973]) \t Output Back size: torch.Size([33, 15, 1973])\n"
     ]
    }
   ],
   "source": [
    "with torch.no_grad():\n",
    "    output = G_AB(dataset_test.data_normal)\n",
    "    output_back = G_BA(output)\n",
    "print(f\"Output size: {output.size()} \\t Output Back size: {output_back.size()}\")"
   ]
  },
  {
   "cell_type": "code",
   "execution_count": 10,
   "metadata": {},
   "outputs": [
    {
     "name": "stdout",
     "output_type": "stream",
     "text": [
      "+ 1.003391131318834\n",
      "+ 0.9973378503478892\n",
      "+ 1.0041354120141435\n",
      "+ 1.0062324340786528\n",
      "+ 0.9817541017174632\n",
      "+ 0.9906069926906169\n",
      "+ 0.9906069926906169\n",
      "+ 0.9820460130240478\n",
      "+ 0.9800574260840922\n",
      "+ 0.980076705572252\n",
      "+ 0.9762056814363163\n",
      "+ 0.9749520279742078\n",
      "+ 0.9716759935084921\n",
      "- 3.6988809128017235\n",
      "+ 1.082676956205937\n",
      "+ 1.1216437804002644\n",
      "+ 1.0391446854836628\n",
      "+ 1.1344544785570985\n",
      "+ 1.0207776893248106\n",
      "+ 1.1192419600300632\n",
      "+ 0.9330662636991462\n",
      "+ 0.9539501370610306\n",
      "+ 1.1022007618257124\n",
      "+ 1.0929486807208006\n",
      "+ 0.9785979089712041\n",
      "+ 0.9879984947548368\n",
      "+ 0.9880474447401981\n",
      "+ 0.9330662636991462\n",
      "+ 0.9946879510364633\n",
      "+ 0.9811173264799308\n",
      "+ 1.0158475633054358\n",
      "+ 0.9970446999177699\n",
      "+ 1.0536057410881188\n"
     ]
    }
   ],
   "source": [
    "os.makedirs('cyber_result/other/forward', exist_ok=True)\n",
    "forward_res_list = []\n",
    "for i in range(output.size(0)):\n",
    "    plt.plot(output[i, 0, :].numpy())\n",
    "    plt.plot(output_back[i, 0, :].numpy())\n",
    "    plt.plot(dataset_test.data_normal[i, 0, :].numpy())\n",
    "    plt.legend(['Generated', 'Generated Back', 'Original'])\n",
    "    plt.savefig(f'cyber_result/other/forward/output_{i}.png')\n",
    "    plt.close()\n",
    "\n",
    "    dist1, cost, acc, path = dtw(output[i,0,:].reshape(-1, 1), dataset_test.data_normal[i,0,:].reshape(-1, 1), dist=lambda x, y: np.linalg.norm(x - y, ord=1))\n",
    "    dist2, cost, acc, path = dtw(output_back[i,0,:].reshape(-1, 1), output[i,0,:].reshape(-1, 1), dist=lambda x, y: np.linalg.norm(x - y, ord=1))\n",
    "    dist3, cost, acc, path = dtw(output_back[i,0,:].reshape(-1, 1), dataset_test.data_normal[i,0,:].reshape(-1, 1), dist=lambda x, y: np.linalg.norm(x - y, ord=1))\n",
    "    res = (dist2+dist3)/dist1\n",
    "    print(\"+\" if res < threshold else \"-\", res)\n",
    "    forward_res_list.append(res)"
   ]
  },
  {
   "cell_type": "code",
   "execution_count": 11,
   "metadata": {},
   "outputs": [
    {
     "data": {
      "image/png": "[encoded data removed]",
      "text/plain": [
       "<Figure size 640x480 with 1 Axes>"
      ]
     },
     "metadata": {},
     "output_type": "display_data"
    }
   ],
   "source": [
    "plt.figure()\n",
    "# Assuming res_list and threshold are defined as in your code\n",
    "colors = ['red' if res > threshold else 'blue' for res in forward_res_list]\n",
    "# Scatter plot with individual colors for each point\n",
    "plt.scatter(range(len(forward_res_list)), forward_res_list, color=colors)\n",
    "plt.axhline(y=threshold, color='red', linestyle='--')\n",
    "plt.xlabel('Index')\n",
    "plt.ylabel('Res')\n",
    "plt.title('Test: Normal data with RE')\n",
    "plt.show()"
   ]
  },
  {
   "cell_type": "markdown",
   "metadata": {},
   "source": [
    "---"
   ]
  },
  {
   "cell_type": "code",
   "execution_count": 12,
   "metadata": {},
   "outputs": [
    {
     "data": {
      "text/plain": [
       "torch.Size([33, 15, 1973])"
      ]
     },
     "execution_count": 12,
     "metadata": {},
     "output_type": "execute_result"
    }
   ],
   "source": [
    "dataset_test.data_attacked.size()"
   ]
  },
  {
   "cell_type": "code",
   "execution_count": 16,
   "metadata": {},
   "outputs": [
    {
     "data": {
      "text/plain": [
       "torch.Size([33, 15, 1973])"
      ]
     },
     "execution_count": 16,
     "metadata": {},
     "output_type": "execute_result"
    }
   ],
   "source": [
    "data_attacked_test = dataset_test.data_attacked\n",
    "data_attacked_test.size()"
   ]
  },
  {
   "cell_type": "code",
   "execution_count": 17,
   "metadata": {},
   "outputs": [
    {
     "name": "stdout",
     "output_type": "stream",
     "text": [
      "Output size: torch.Size([33, 15, 1973]) \t Output Back size: torch.Size([33, 15, 1973])\n"
     ]
    }
   ],
   "source": [
    "with torch.no_grad():\n",
    "    output = G_AB(data_attacked_test)\n",
    "    output_back = G_BA(output)\n",
    "print(f\"Output size: {output.size()} \\t Output Back size: {output_back.size()}\")"
   ]
  },
  {
   "cell_type": "code",
   "execution_count": 18,
   "metadata": {},
   "outputs": [
    {
     "name": "stdout",
     "output_type": "stream",
     "text": [
      "+ 0.9439660723121502\n",
      "+ 0.9382833767903908\n",
      "+ 0.9386481097266643\n",
      "+ 0.9423767328268395\n",
      "+ 0.9385262477023683\n",
      "+ 0.9378376625841548\n",
      "+ 0.9378376625841548\n",
      "+ 0.9375129075940756\n",
      "+ 0.9375467971560864\n",
      "+ 0.9379110412208131\n",
      "+ 0.9380367461824122\n",
      "+ 0.9379316992014937\n",
      "+ 0.9373574603730317\n",
      "- 6.3249332515458905\n",
      "+ 1.238389281528071\n",
      "+ 1.0865450923267683\n",
      "+ 1.1059200503005215\n",
      "+ 0.9664854005909838\n",
      "+ 0.9407003800086556\n",
      "+ 0.9496385912102504\n",
      "+ 0.967892760205002\n",
      "+ 0.9523135805628803\n",
      "+ 1.3326783088824126\n",
      "+ 0.9541347320959614\n",
      "+ 0.9531076685705949\n",
      "+ 0.9837620026966623\n",
      "+ 0.9496385912102504\n",
      "+ 0.967892760205002\n",
      "+ 0.945742127925134\n",
      "+ 0.9537043150867753\n",
      "+ 0.93936319726552\n",
      "+ 0.9528257294857839\n",
      "+ 0.9501308383551715\n"
     ]
    }
   ],
   "source": [
    "os.makedirs('cyber_result/other/detection', exist_ok=True)\n",
    "detection_res_list = []\n",
    "for i in range(output.size(0)):\n",
    "    plt.plot(output[i, 0, :].numpy())\n",
    "    plt.plot(output_back[i, 0, :].numpy())\n",
    "    plt.plot(data_attacked_test[i, 0, :].numpy())\n",
    "    plt.legend(['Generated', 'Generated Back', 'Original'])\n",
    "    plt.savefig(f'cyber_result/other/detection/output_{i}.png')\n",
    "    plt.close()\n",
    "\n",
    "    dist1, cost, acc, path = dtw(output[i,0,:].reshape(-1, 1), data_attacked_test[i, 0, :].reshape(-1, 1), dist=lambda x, y: np.linalg.norm(x - y, ord=1))\n",
    "    dist2, cost, acc, path = dtw(output_back[i,0,:].reshape(-1, 1), output[i,0,:].reshape(-1, 1), dist=lambda x, y: np.linalg.norm(x - y, ord=1))\n",
    "    dist3, cost, acc, path = dtw(output_back[i,0,:].reshape(-1, 1), data_attacked_test[i, 0, :].reshape(-1, 1), dist=lambda x, y: np.linalg.norm(x - y, ord=1)) \n",
    "    res = (dist2+dist3)/dist1   \n",
    "    print(\"+\" if res < threshold else \"-\", res)\n",
    "    detection_res_list.append(res)"
   ]
  },
  {
   "cell_type": "code",
   "execution_count": 19,
   "metadata": {},
   "outputs": [
    {
     "data": {
      "image/png": "[encoded data removed]",
      "text/plain": [
       "<Figure size 640x480 with 1 Axes>"
      ]
     },
     "metadata": {},
     "output_type": "display_data"
    }
   ],
   "source": [
    "plt.figure()\n",
    "# Assuming res_list and threshold are defined as in your code\n",
    "colors = ['red' if res > threshold else 'blue' for res in detection_res_list]\n",
    "# Scatter plot with individual colors for each point\n",
    "plt.scatter(range(len(detection_res_list)), detection_res_list, color=colors)\n",
    "plt.axhline(y=threshold, color='red', linestyle='--')\n",
    "plt.xlabel('Index')\n",
    "plt.ylabel('Res')\n",
    "plt.title('Test: Attacked data with RE')\n",
    "plt.show()"
   ]
  },
  {
   "cell_type": "code",
   "execution_count": 20,
   "metadata": {},
   "outputs": [
    {
     "data": {
      "text/plain": [
       "[3.6988809128017235,\n",
       " 1.1344544785570985,\n",
       " 1.1216437804002644,\n",
       " 1.1192419600300632,\n",
       " 1.1022007618257124,\n",
       " 1.0929486807208006,\n",
       " 1.082676956205937,\n",
       " 1.0536057410881188,\n",
       " 1.0391446854836628,\n",
       " 1.0207776893248106,\n",
       " 1.0158475633054358,\n",
       " 1.0062324340786528,\n",
       " 1.0041354120141435,\n",
       " 1.003391131318834,\n",
       " 0.9973378503478892,\n",
       " 0.9970446999177699,\n",
       " 0.9946879510364633,\n",
       " 0.9906069926906169,\n",
       " 0.9906069926906169,\n",
       " 0.9880474447401981,\n",
       " 0.9879984947548368,\n",
       " 0.9820460130240478,\n",
       " 0.9817541017174632,\n",
       " 0.9811173264799308,\n",
       " 0.980076705572252,\n",
       " 0.9800574260840922,\n",
       " 0.9785979089712041,\n",
       " 0.9762056814363163,\n",
       " 0.9749520279742078,\n",
       " 0.9716759935084921,\n",
       " 0.9539501370610306,\n",
       " 0.9330662636991462,\n",
       " 0.9330662636991462]"
      ]
     },
     "execution_count": 20,
     "metadata": {},
     "output_type": "execute_result"
    }
   ],
   "source": [
    "sorted(forward_res_list, reverse=True)"
   ]
  },
  {
   "cell_type": "code",
   "execution_count": 21,
   "metadata": {},
   "outputs": [
    {
     "data": {
      "text/plain": [
       "[6.3249332515458905,\n",
       " 1.3326783088824126,\n",
       " 1.238389281528071,\n",
       " 1.1059200503005215,\n",
       " 1.0865450923267683,\n",
       " 0.9837620026966623,\n",
       " 0.967892760205002,\n",
       " 0.967892760205002,\n",
       " 0.9664854005909838,\n",
       " 0.9541347320959614,\n",
       " 0.9537043150867753,\n",
       " 0.9531076685705949,\n",
       " 0.9528257294857839,\n",
       " 0.9523135805628803,\n",
       " 0.9501308383551715,\n",
       " 0.9496385912102504,\n",
       " 0.9496385912102504,\n",
       " 0.945742127925134,\n",
       " 0.9439660723121502,\n",
       " 0.9423767328268395,\n",
       " 0.9407003800086556,\n",
       " 0.93936319726552,\n",
       " 0.9386481097266643,\n",
       " 0.9385262477023683,\n",
       " 0.9382833767903908,\n",
       " 0.9380367461824122,\n",
       " 0.9379316992014937,\n",
       " 0.9379110412208131,\n",
       " 0.9378376625841548,\n",
       " 0.9378376625841548,\n",
       " 0.9375467971560864,\n",
       " 0.9375129075940756,\n",
       " 0.9373574603730317]"
      ]
     },
     "execution_count": 21,
     "metadata": {},
     "output_type": "execute_result"
    }
   ],
   "source": [
    "sorted(detection_res_list, reverse=True)"
   ]
  }
 ],
 "metadata": {
  "kernelspec": {
   "display_name": "GAN",
   "language": "python",
   "name": "python3"
  },
  "language_info": {
   "codemirror_mode": {
    "name": "ipython",
    "version": 3
   },
   "file_extension": ".py",
   "mimetype": "text/x-python",
   "name": "python",
   "nbconvert_exporter": "python",
   "pygments_lexer": "ipython3",
   "version": "3.12.2"
  }
 },
 "nbformat": 4,
 "nbformat_minor": 2
}
