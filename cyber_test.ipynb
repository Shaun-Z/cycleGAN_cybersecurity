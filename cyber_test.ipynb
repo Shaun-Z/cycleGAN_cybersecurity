{
 "cells": [
  {
   "cell_type": "code",
   "execution_count": 1,
   "metadata": {},
   "outputs": [],
   "source": [
    "import torchvision.transforms as transforms\n",
    "from torchvision.utils import save_image, make_grid\n",
    "\n",
    "from torch.utils.data import DataLoader\n",
    "from torchvision import datasets\n",
    "from torch.autograd import Variable\n",
    "\n",
    "from models import *\n",
    "from datasets import *\n",
    "from utils import *\n",
    "\n",
    "import torch.nn as nn\n",
    "import torch.nn.functional as F\n",
    "import torch\n",
    "\n",
    "from dataset.time_dataset import TsDataset\n",
    "from pathlib import Path\n",
    "\n",
    "import matplotlib.pyplot as plt\n",
    "\n",
    "from dtw import dtw"
   ]
  },
  {
   "cell_type": "code",
   "execution_count": 2,
   "metadata": {},
   "outputs": [
    {
     "name": "stdout",
     "output_type": "stream",
     "text": [
      "The size of the dataset is:  torch.Size([33, 576]) torch.Size([33, 15, 576])\n"
     ]
    }
   ],
   "source": [
    "# Dataset loader\n",
    "datapath = Path('data')\n",
    "dataset = TsDataset(datapath/'CaseI-Attacks without any change.csv')\n",
    "dataloader = torch.utils.data.DataLoader(dataset, batch_size=1,\n",
    "                                        shuffle=True, num_workers=4)\n",
    "print(\"The size of the dataset is: \", dataset.data_normal.size(), dataset.data_abnormal.size())"
   ]
  },
  {
   "cell_type": "code",
   "execution_count": 3,
   "metadata": {},
   "outputs": [],
   "source": [
    "normal_dim = dataset.data_normal.size(1)\n",
    "abnormal_dim = dataset.data_abnormal.size(2)\n",
    "in_dim = dataset.__len__()"
   ]
  },
  {
   "cell_type": "code",
   "execution_count": 4,
   "metadata": {},
   "outputs": [],
   "source": [
    "G_AB = LSTMGenerator(normal_dim, normal_dim)\n",
    "G_BA = LSTMGenerator(abnormal_dim, abnormal_dim)\n",
    "D_A = LSTMDiscriminator(normal_dim)\n",
    "D_B = LSTMDiscriminator(abnormal_dim)"
   ]
  },
  {
   "cell_type": "code",
   "execution_count": 5,
   "metadata": {},
   "outputs": [
    {
     "data": {
      "text/plain": [
       "<All keys matched successfully>"
      ]
     },
     "execution_count": 5,
     "metadata": {},
     "output_type": "execute_result"
    }
   ],
   "source": [
    "G_AB.load_state_dict(torch.load(\"saved_models/cyber/G_AB_190.pth\"))\n",
    "G_BA.load_state_dict(torch.load(\"saved_models/cyber/G_BA_190.pth\"))\n",
    "D_A.load_state_dict(torch.load(\"saved_models/cyber/D_A_190.pth\"))\n",
    "D_B.load_state_dict(torch.load(\"saved_models/cyber/D_B_190.pth\"))"
   ]
  },
  {
   "cell_type": "code",
   "execution_count": 6,
   "metadata": {},
   "outputs": [
    {
     "data": {
      "text/plain": [
       "LSTMDiscriminator(\n",
       "  (lstm): LSTM(576, 256, batch_first=True)\n",
       "  (linear): Sequential(\n",
       "    (0): Linear(in_features=256, out_features=1, bias=True)\n",
       "    (1): Sigmoid()\n",
       "  )\n",
       ")"
      ]
     },
     "execution_count": 6,
     "metadata": {},
     "output_type": "execute_result"
    }
   ],
   "source": [
    "G_AB.eval()\n",
    "G_BA.eval()\n",
    "D_A.eval()\n",
    "D_B.eval()"
   ]
  },
  {
   "cell_type": "code",
   "execution_count": 7,
   "metadata": {},
   "outputs": [
    {
     "data": {
      "text/plain": [
       "torch.Size([33, 576])"
      ]
     },
     "execution_count": 7,
     "metadata": {},
     "output_type": "execute_result"
    }
   ],
   "source": [
    "dataset.data_normal.size()"
   ]
  },
  {
   "cell_type": "code",
   "execution_count": 8,
   "metadata": {},
   "outputs": [],
   "source": [
    "threshold = 6.0"
   ]
  },
  {
   "cell_type": "code",
   "execution_count": 9,
   "metadata": {},
   "outputs": [
    {
     "data": {
      "text/plain": [
       "torch.Size([33, 144])"
      ]
     },
     "execution_count": 9,
     "metadata": {},
     "output_type": "execute_result"
    }
   ],
   "source": [
    "dataset_test = TsDataset(datapath/'CaseII.csv')\n",
    "dataset_test.data_normal.size()"
   ]
  },
  {
   "cell_type": "code",
   "execution_count": 10,
   "metadata": {},
   "outputs": [
    {
     "name": "stdout",
     "output_type": "stream",
     "text": [
      "Output size: torch.Size([33, 1, 576]) \t Output Back size: torch.Size([33, 1, 576])\n",
      "+ 1.1046712468898758\n",
      "+ 1.0712695378433623\n",
      "+ 1.0780540437339154\n",
      "+ 1.080140382941859\n",
      "+ 1.072658961524924\n",
      "+ 1.0751795947576233\n",
      "+ 1.0751795947576233\n",
      "+ 1.072278123373348\n",
      "+ 1.0712033901735796\n",
      "+ 1.0731579056139373\n",
      "+ 1.0720394349720586\n",
      "+ 1.0734910672642373\n",
      "+ 1.0618854052531896\n",
      "+ 1.498584868063007\n",
      "+ 2.052186987837585\n",
      "+ 2.218067237263312\n",
      "+ 2.0372990742020316\n",
      "+ 2.2071872141798297\n",
      "+ 1.113742997499156\n",
      "+ 1.5352080820174876\n",
      "+ 2.9198212367588265\n",
      "+ 5.958225287644663\n",
      "+ 2.0638337102041024\n",
      "+ 3.1976733237873414\n",
      "+ 4.0344775981599765\n",
      "- 6.351311732524543\n",
      "+ 1.4518999365828849\n",
      "+ 2.9198212367588265\n",
      "+ 1.6233352033925357\n",
      "- 10.198835911228993\n",
      "+ 1.1493125848255397\n",
      "+ 1.3256800610261736\n",
      "+ 1.9838926837771562\n"
     ]
    },
    {
     "data": {
      "image/png": "[encoded data removed]",
      "text/plain": [
       "<Figure size 640x480 with 1 Axes>"
      ]
     },
     "metadata": {},
     "output_type": "display_data"
    }
   ],
   "source": [
    "with torch.no_grad():\n",
    "    output = G_AB(dataset_test.data_normal.repeat(1, 4).unsqueeze(1))\n",
    "    output_back = G_BA(output)\n",
    "print(f\"Output size: {output.size()} \\t Output Back size: {output_back.size()}\")\n",
    "\n",
    "\n",
    "# for i in range(output.size(0)):\n",
    "#     plt.plot(output[i, 0, :].numpy())\n",
    "#     plt.plot(output_back[i, 0, :].numpy())\n",
    "#     plt.plot(dataset_test.data_normal[i, :].numpy())\n",
    "#     plt.legend(['Generated', 'Generated Back', 'Original'])\n",
    "#     plt.savefig(f'cyber_result/forward/output_{i}.png')\n",
    "#     plt.close()\n",
    "\n",
    "#     dist1, cost, acc, path = dtw(output[i,0,:].reshape(-1, 1), dataset_test.data_normal[i, :].reshape(-1, 1), dist=lambda x, y: np.linalg.norm(x - y, ord=1))\n",
    "#     dist2, cost, acc, path = dtw(output_back[i,0,:].reshape(-1, 1), output[i,0,:].reshape(-1, 1), dist=lambda x, y: np.linalg.norm(x - y, ord=1))\n",
    "#     dist3, cost, acc, path = dtw(output_back[i,0,:].reshape(-1, 1), dataset_test.data_normal[i, :].reshape(-1, 1), dist=lambda x, y: np.linalg.norm(x - y, ord=1))\n",
    "#     res = (dist2+dist3)/dist1\n",
    "#     print(\"+\" if res < threshold else \"-\", res)\n",
    "\n",
    "res_list = []\n",
    "for i in range(output.size(0)):\n",
    "    dist1, cost, acc, path = dtw(output[i,0,:].reshape(-1, 1), dataset_test.data_normal[i, :].reshape(-1, 1), dist=lambda x, y: np.linalg.norm(x - y, ord=1))\n",
    "    dist2, cost, acc, path = dtw(output_back[i,0,:].reshape(-1, 1), output[i,0,:].reshape(-1, 1), dist=lambda x, y: np.linalg.norm(x - y, ord=1))\n",
    "    dist3, cost, acc, path = dtw(output_back[i,0,:].reshape(-1, 1), dataset_test.data_normal[i, :].reshape(-1, 1), dist=lambda x, y: np.linalg.norm(x - y, ord=1))\n",
    "    res = (dist2+dist3)/dist1\n",
    "    print(\"+\" if res < threshold else \"-\", res)\n",
    "    res_list.append(res)\n",
    "\n",
    "plt.figure()\n",
    "# Assuming res_list and threshold are defined as in your code\n",
    "colors = ['red' if res > threshold else 'blue' for res in res_list]\n",
    "# Scatter plot with individual colors for each point\n",
    "plt.scatter(range(len(res_list)), res_list, color=colors)\n",
    "plt.axhline(y=threshold, color='red', linestyle='--')\n",
    "plt.xlabel('Index')\n",
    "plt.ylabel('Res')\n",
    "plt.title('Res Results')\n",
    "plt.show()"
   ]
  },
  {
   "cell_type": "code",
   "execution_count": 11,
   "metadata": {},
   "outputs": [
    {
     "data": {
      "image/png": "[encoded data removed]",
      "text/plain": [
       "<Figure size 640x480 with 1 Axes>"
      ]
     },
     "metadata": {},
     "output_type": "display_data"
    }
   ],
   "source": [
    "plt.figure()\n",
    "# Assuming res_list and threshold are defined as in your code\n",
    "colors = ['red' if res > threshold else 'blue' for res in res_list]\n",
    "# Scatter plot with individual colors for each point\n",
    "plt.scatter(range(len(res_list)), res_list, color=colors)\n",
    "plt.axhline(y=threshold, color='red', linestyle='--')\n",
    "plt.xlabel('Index')\n",
    "plt.ylabel('Res')\n",
    "plt.title('Res Results')\n",
    "plt.show()"
   ]
  },
  {
   "cell_type": "markdown",
   "metadata": {},
   "source": [
    "---"
   ]
  },
  {
   "cell_type": "code",
   "execution_count": 12,
   "metadata": {},
   "outputs": [
    {
     "data": {
      "text/plain": [
       "torch.Size([33, 15, 144])"
      ]
     },
     "execution_count": 12,
     "metadata": {},
     "output_type": "execute_result"
    }
   ],
   "source": [
    "dataset_test.data_abnormal.size()"
   ]
  },
  {
   "cell_type": "code",
   "execution_count": 13,
   "metadata": {},
   "outputs": [
    {
     "data": {
      "text/plain": [
       "torch.Size([33, 576])"
      ]
     },
     "execution_count": 13,
     "metadata": {},
     "output_type": "execute_result"
    }
   ],
   "source": [
    "data_abnormal_test = dataset.data_abnormal[:,4,:]\n",
    "data_abnormal_test.size()"
   ]
  },
  {
   "cell_type": "code",
   "execution_count": 14,
   "metadata": {},
   "outputs": [],
   "source": [
    "with torch.no_grad():\n",
    "    output = G_AB(data_abnormal_test.unsqueeze(1))\n",
    "    output_back = G_BA(output)"
   ]
  },
  {
   "cell_type": "code",
   "execution_count": 15,
   "metadata": {},
   "outputs": [
    {
     "name": "stdout",
     "output_type": "stream",
     "text": [
      "- 13.645967250604835\n",
      "- 19.17602177771924\n",
      "- 15.715321049289651\n",
      "- 13.852028444806274\n",
      "+ 4.060437273986812\n",
      "- 18.535190994650687\n",
      "- 18.535190994650687\n",
      "- 16.428836745949006\n",
      "- 16.19938056625685\n",
      "- 16.560803521692588\n",
      "- 15.749524010761304\n",
      "- 15.69403178385037\n",
      "- 14.456757589183818\n",
      "+ 1.2139990066117166\n",
      "+ 5.612135560882262\n",
      "+ 5.778840639539935\n",
      "- 6.360790818638663\n",
      "+ 4.461466266765887\n",
      "+ 5.633340903930642\n",
      "+ 1.6429144496737427\n",
      "- 6.749516742614806\n",
      "- 12.159520171130774\n",
      "+ 1.5686888937689831\n",
      "+ 0.9425672816094716\n",
      "+ 0.7903321402786243\n",
      "+ 0.994394317543922\n",
      "- 10.374405431651637\n",
      "- 6.749516742614806\n",
      "- 12.833833992909339\n",
      "- 12.978556227023672\n",
      "- 14.898392397115806\n",
      "- 16.646282757505123\n",
      "- 9.955132545407885\n"
     ]
    },
    {
     "data": {
      "image/png": "[encoded data removed]",
      "text/plain": [
       "<Figure size 640x480 with 1 Axes>"
      ]
     },
     "metadata": {},
     "output_type": "display_data"
    }
   ],
   "source": [
    "res_list = []\n",
    "for i in range(output.size(0)):\n",
    "    plt.plot(output[i, 0, :].numpy())\n",
    "    plt.plot(output_back[i, 0, :].numpy())\n",
    "    plt.plot(data_abnormal_test[i, :].numpy())\n",
    "    plt.legend(['Generated', 'Generated Back', 'Original'])\n",
    "    plt.savefig(f'cyber_result/detection/output_{i}.png')\n",
    "    plt.close()\n",
    "\n",
    "    dist1, cost, acc, path = dtw(output[i,0,:].reshape(-1, 1), data_abnormal_test[i, :].reshape(-1, 1), dist=lambda x, y: np.linalg.norm(x - y, ord=1))\n",
    "    dist2, cost, acc, path = dtw(output_back[i,0,:].reshape(-1, 1), output[i,0,:].reshape(-1, 1), dist=lambda x, y: np.linalg.norm(x - y, ord=1))\n",
    "    dist3, cost, acc, path = dtw(output_back[i,0,:].reshape(-1, 1), data_abnormal_test[i, :].reshape(-1, 1), dist=lambda x, y: np.linalg.norm(x - y, ord=1)) \n",
    "    res = (dist2+dist3)/dist1   \n",
    "    print(\"+\" if res < threshold else \"-\", res)\n",
    "    res_list.append(res)\n",
    "\n",
    "plt.figure()\n",
    "# Assuming res_list and threshold are defined as in your code\n",
    "colors = ['red' if res > threshold else 'blue' for res in res_list]\n",
    "# Scatter plot with individual colors for each point\n",
    "plt.scatter(range(len(res_list)), res_list, color=colors)\n",
    "plt.axhline(y=threshold, color='red', linestyle='--')\n",
    "plt.xlabel('Index')\n",
    "plt.ylabel('Res')\n",
    "plt.title('Res Results')\n",
    "plt.show()"
   ]
  }
 ],
 "metadata": {
  "kernelspec": {
   "display_name": "GAN",
   "language": "python",
   "name": "python3"
  },
  "language_info": {
   "codemirror_mode": {
    "name": "ipython",
    "version": 3
   },
   "file_extension": ".py",
   "mimetype": "text/x-python",
   "name": "python",
   "nbconvert_exporter": "python",
   "pygments_lexer": "ipython3",
   "version": "3.12.2"
  }
 },
 "nbformat": 4,
 "nbformat_minor": 2
}
