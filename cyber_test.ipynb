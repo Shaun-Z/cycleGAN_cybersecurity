{
 "cells": [
  {
   "cell_type": "code",
   "execution_count": 1,
   "metadata": {},
   "outputs": [],
   "source": [
    "import torchvision.transforms as transforms\n",
    "from torchvision.utils import save_image, make_grid\n",
    "\n",
    "from torch.utils.data import DataLoader\n",
    "from torchvision import datasets\n",
    "from torch.autograd import Variable\n",
    "\n",
    "from models import *\n",
    "from datasets import *\n",
    "from utils import *\n",
    "\n",
    "import torch.nn as nn\n",
    "import torch.nn.functional as F\n",
    "import torch\n",
    "\n",
    "from dataset.time_dataset import TsDataset\n",
    "from pathlib import Path"
   ]
  },
  {
   "cell_type": "code",
   "execution_count": 2,
   "metadata": {},
   "outputs": [
    {
     "name": "stdout",
     "output_type": "stream",
     "text": [
      "The size of the dataset is:  torch.Size([33, 576]) torch.Size([33, 15, 576])\n"
     ]
    }
   ],
   "source": [
    "# Dataset loader\n",
    "datapath = Path('data')\n",
    "dataset = TsDataset(datapath/'CaseI-Attacks without any change.csv')\n",
    "dataloader = torch.utils.data.DataLoader(dataset, batch_size=1,\n",
    "                                        shuffle=True, num_workers=4)\n",
    "print(\"The size of the dataset is: \", dataset.data_normal.size(), dataset.data_abnormal.size())"
   ]
  },
  {
   "cell_type": "code",
   "execution_count": 3,
   "metadata": {},
   "outputs": [],
   "source": [
    "normal_dim = dataset.data_normal.size(1)\n",
    "abnormal_dim = dataset.data_abnormal.size(2)\n",
    "in_dim = dataset.__len__()"
   ]
  },
  {
   "cell_type": "code",
   "execution_count": 4,
   "metadata": {},
   "outputs": [],
   "source": [
    "G_AB = LSTMGenerator(normal_dim, normal_dim)\n",
    "G_BA = LSTMGenerator(abnormal_dim, abnormal_dim)\n",
    "D_A = LSTMDiscriminator(normal_dim)\n",
    "D_B = LSTMDiscriminator(abnormal_dim)"
   ]
  },
  {
   "cell_type": "code",
   "execution_count": 5,
   "metadata": {},
   "outputs": [
    {
     "data": {
      "text/plain": [
       "<All keys matched successfully>"
      ]
     },
     "execution_count": 5,
     "metadata": {},
     "output_type": "execute_result"
    }
   ],
   "source": [
    "G_AB.load_state_dict(torch.load(\"saved_models/cyber/G_AB_190.pth\"))\n",
    "G_BA.load_state_dict(torch.load(\"saved_models/cyber/G_BA_190.pth\"))\n",
    "D_A.load_state_dict(torch.load(\"saved_models/cyber/D_A_190.pth\"))\n",
    "D_B.load_state_dict(torch.load(\"saved_models/cyber/D_B_190.pth\"))"
   ]
  },
  {
   "cell_type": "code",
   "execution_count": 6,
   "metadata": {},
   "outputs": [
    {
     "data": {
      "text/plain": [
       "LSTMDiscriminator(\n",
       "  (lstm): LSTM(576, 256, batch_first=True)\n",
       "  (linear): Sequential(\n",
       "    (0): Linear(in_features=256, out_features=1, bias=True)\n",
       "    (1): Sigmoid()\n",
       "  )\n",
       ")"
      ]
     },
     "execution_count": 6,
     "metadata": {},
     "output_type": "execute_result"
    }
   ],
   "source": [
    "G_AB.eval()\n",
    "G_BA.eval()\n",
    "D_A.eval()\n",
    "D_B.eval()"
   ]
  },
  {
   "cell_type": "code",
   "execution_count": 7,
   "metadata": {},
   "outputs": [
    {
     "data": {
      "text/plain": [
       "torch.Size([33, 576])"
      ]
     },
     "execution_count": 7,
     "metadata": {},
     "output_type": "execute_result"
    }
   ],
   "source": [
    "dataset.data_normal.size()"
   ]
  },
  {
   "cell_type": "code",
   "execution_count": 8,
   "metadata": {},
   "outputs": [],
   "source": [
    "with torch.no_grad():\n",
    "    output = G_AB(dataset.data_normal.unsqueeze(1))\n",
    "    output_back = G_BA(output)"
   ]
  },
  {
   "cell_type": "code",
   "execution_count": 9,
   "metadata": {},
   "outputs": [
    {
     "data": {
      "text/plain": [
       "(torch.Size([33, 1, 576]), torch.Size([33, 1, 576]))"
      ]
     },
     "execution_count": 9,
     "metadata": {},
     "output_type": "execute_result"
    }
   ],
   "source": [
    "output.size(), output_back.size()"
   ]
  },
  {
   "cell_type": "code",
   "execution_count": 10,
   "metadata": {},
   "outputs": [],
   "source": [
    "import matplotlib.pyplot as plt\n",
    "for i in range(output.size(0)):\n",
    "    plt.plot(output[i, 0, :].numpy())\n",
    "    plt.plot(output_back[i, 0, :].numpy())\n",
    "    plt.plot(dataset.data_normal[i, :].numpy())\n",
    "    plt.legend(['Generated', 'Generated Back', 'Original'])\n",
    "    plt.savefig(f'cyber_result/forward/output_{i}.png')\n",
    "    plt.close()"
   ]
  },
  {
   "cell_type": "markdown",
   "metadata": {},
   "source": [
    "---"
   ]
  },
  {
   "cell_type": "code",
   "execution_count": 11,
   "metadata": {},
   "outputs": [
    {
     "data": {
      "text/plain": [
       "torch.Size([33, 15, 576])"
      ]
     },
     "execution_count": 11,
     "metadata": {},
     "output_type": "execute_result"
    }
   ],
   "source": [
    "dataset.data_abnormal.size()"
   ]
  },
  {
   "cell_type": "code",
   "execution_count": 12,
   "metadata": {},
   "outputs": [
    {
     "data": {
      "text/plain": [
       "torch.Size([33, 576])"
      ]
     },
     "execution_count": 12,
     "metadata": {},
     "output_type": "execute_result"
    }
   ],
   "source": [
    "data_abnormal_test = dataset.data_abnormal[:,0,:]\n",
    "data_abnormal_test.size()"
   ]
  },
  {
   "cell_type": "code",
   "execution_count": 13,
   "metadata": {},
   "outputs": [],
   "source": [
    "with torch.no_grad():\n",
    "    output = G_AB(data_abnormal_test.unsqueeze(1))\n",
    "    output_back = G_BA(output)"
   ]
  },
  {
   "cell_type": "code",
   "execution_count": 14,
   "metadata": {},
   "outputs": [],
   "source": [
    "for i in range(output.size(0)):\n",
    "    plt.plot(output[i, 0, :].numpy())\n",
    "    plt.plot(output_back[i, 0, :].numpy())\n",
    "    plt.plot(data_abnormal_test[i, :].numpy())\n",
    "    plt.legend(['Generated', 'Generated Back', 'Original'])\n",
    "    plt.savefig(f'cyber_result/detection/output_{i}.png')\n",
    "    plt.close()"
   ]
  }
 ],
 "metadata": {
  "kernelspec": {
   "display_name": "GAN",
   "language": "python",
   "name": "python3"
  },
  "language_info": {
   "codemirror_mode": {
    "name": "ipython",
    "version": 3
   },
   "file_extension": ".py",
   "mimetype": "text/x-python",
   "name": "python",
   "nbconvert_exporter": "python",
   "pygments_lexer": "ipython3",
   "version": "3.12.2"
  }
 },
 "nbformat": 4,
 "nbformat_minor": 2
}
