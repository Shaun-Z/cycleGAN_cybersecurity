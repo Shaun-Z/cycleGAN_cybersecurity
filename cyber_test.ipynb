{
 "cells": [
  {
   "cell_type": "code",
   "execution_count": 1,
   "metadata": {},
   "outputs": [],
   "source": [
    "import torchvision.transforms as transforms\n",
    "from torchvision.utils import save_image, make_grid\n",
    "\n",
    "from torch.utils.data import DataLoader\n",
    "from torchvision import datasets\n",
    "from torch.autograd import Variable\n",
    "\n",
    "from models import *\n",
    "from datasets import *\n",
    "from utils import *\n",
    "\n",
    "import torch.nn as nn\n",
    "import torch.nn.functional as F\n",
    "import torch\n",
    "\n",
    "from dataset.time_dataset import TsDataset\n",
    "from pathlib import Path\n",
    "\n",
    "import matplotlib.pyplot as plt\n",
    "\n",
    "from dtw import dtw"
   ]
  },
  {
   "cell_type": "code",
   "execution_count": 2,
   "metadata": {},
   "outputs": [
    {
     "name": "stdout",
     "output_type": "stream",
     "text": [
      "The size of the dataset is:  torch.Size([33, 576]) torch.Size([33, 15, 576])\n"
     ]
    }
   ],
   "source": [
    "# Dataset loader\n",
    "datapath = Path('data')\n",
    "dataset = TsDataset(datapath/'CaseI-Attacks without any change.csv')\n",
    "dataloader = torch.utils.data.DataLoader(dataset, batch_size=1,\n",
    "                                        shuffle=True, num_workers=4)\n",
    "print(\"The size of the dataset is: \", dataset.data_normal.size(), dataset.data_abnormal.size())"
   ]
  },
  {
   "cell_type": "code",
   "execution_count": 3,
   "metadata": {},
   "outputs": [],
   "source": [
    "normal_dim = dataset.data_normal.size(1)\n",
    "abnormal_dim = dataset.data_abnormal.size(2)\n",
    "in_dim = dataset.__len__()"
   ]
  },
  {
   "cell_type": "code",
   "execution_count": 4,
   "metadata": {},
   "outputs": [],
   "source": [
    "G_AB = LSTMGenerator(normal_dim, normal_dim)\n",
    "G_BA = LSTMGenerator(abnormal_dim, abnormal_dim)\n",
    "D_A = LSTMDiscriminator(normal_dim)\n",
    "D_B = LSTMDiscriminator(abnormal_dim)"
   ]
  },
  {
   "cell_type": "code",
   "execution_count": 5,
   "metadata": {},
   "outputs": [
    {
     "data": {
      "text/plain": [
       "<All keys matched successfully>"
      ]
     },
     "execution_count": 5,
     "metadata": {},
     "output_type": "execute_result"
    }
   ],
   "source": [
    "G_AB.load_state_dict(torch.load(\"saved_models/cyber/G_AB_190.pth\"))\n",
    "G_BA.load_state_dict(torch.load(\"saved_models/cyber/G_BA_190.pth\"))\n",
    "D_A.load_state_dict(torch.load(\"saved_models/cyber/D_A_190.pth\"))\n",
    "D_B.load_state_dict(torch.load(\"saved_models/cyber/D_B_190.pth\"))"
   ]
  },
  {
   "cell_type": "code",
   "execution_count": 6,
   "metadata": {},
   "outputs": [
    {
     "data": {
      "text/plain": [
       "LSTMDiscriminator(\n",
       "  (lstm): LSTM(576, 256, batch_first=True)\n",
       "  (linear): Sequential(\n",
       "    (0): Linear(in_features=256, out_features=1, bias=True)\n",
       "    (1): Sigmoid()\n",
       "  )\n",
       ")"
      ]
     },
     "execution_count": 6,
     "metadata": {},
     "output_type": "execute_result"
    }
   ],
   "source": [
    "G_AB.eval()\n",
    "G_BA.eval()\n",
    "D_A.eval()\n",
    "D_B.eval()"
   ]
  },
  {
   "cell_type": "code",
   "execution_count": 7,
   "metadata": {},
   "outputs": [
    {
     "data": {
      "text/plain": [
       "torch.Size([33, 576])"
      ]
     },
     "execution_count": 7,
     "metadata": {},
     "output_type": "execute_result"
    }
   ],
   "source": [
    "dataset.data_normal.size()"
   ]
  },
  {
   "cell_type": "code",
   "execution_count": 8,
   "metadata": {},
   "outputs": [],
   "source": [
    "threshold = 6.0"
   ]
  },
  {
   "cell_type": "code",
   "execution_count": 9,
   "metadata": {},
   "outputs": [
    {
     "data": {
      "text/plain": [
       "torch.Size([33, 144])"
      ]
     },
     "execution_count": 9,
     "metadata": {},
     "output_type": "execute_result"
    }
   ],
   "source": [
    "dataset_test = TsDataset(datapath/'CaseII.csv')\n",
    "dataset_test.data_normal.size()"
   ]
  },
  {
   "cell_type": "code",
   "execution_count": 10,
   "metadata": {},
   "outputs": [
    {
     "name": "stdout",
     "output_type": "stream",
     "text": [
      "Output size: torch.Size([33, 1, 576]) \t Output Back size: torch.Size([33, 1, 576])\n",
      "+ 2.331029491432602\n",
      "+ 1.2747943237464927\n",
      "+ 1.3881818920110267\n",
      "+ 1.5031051814492338\n",
      "+ 1.1408047967187396\n",
      "+ 1.1880372445278344\n",
      "+ 1.1880372445278344\n",
      "+ 1.1108820571387772\n",
      "+ 1.1005703160214078\n",
      "+ 1.1103148012190187\n",
      "+ 1.093998404511999\n",
      "+ 1.0872938626457205\n",
      "+ 1.0631788787009715\n",
      "+ 1.6354867703217508\n",
      "+ 2.616469741893868\n",
      "+ 3.02404477933798\n",
      "+ 2.421994590137501\n",
      "+ 2.256806239547291\n",
      "+ 1.0388489358107535\n",
      "+ 1.3002635822973956\n",
      "+ 2.7207029640515823\n",
      "+ 5.64093910070854\n",
      "+ 2.1506033947235634\n",
      "- 12.368059233448436\n",
      "- 10.448845806203183\n",
      "+ 5.404118493326567\n",
      "+ 3.908509152939757\n",
      "+ 2.7207029640515823\n",
      "+ 5.761931616110566\n",
      "- 12.225558915119224\n",
      "+ 2.9776854156938946\n",
      "+ 4.927758160269898\n",
      "- 8.512895109023098\n"
     ]
    }
   ],
   "source": [
    "with torch.no_grad():\n",
    "    output = G_AB(dataset_test.data_normal.repeat(1, 4).unsqueeze(1))\n",
    "    output_back = G_BA(output)\n",
    "print(f\"Output size: {output.size()} \\t Output Back size: {output_back.size()}\")\n",
    "\n",
    "\n",
    "for i in range(output.size(0)):\n",
    "    plt.plot(output[i, 0, :].numpy())\n",
    "    plt.plot(output_back[i, 0, :].numpy())\n",
    "    plt.plot(dataset_test.data_normal[i, :].numpy())\n",
    "    plt.legend(['Generated', 'Generated Back', 'Original'])\n",
    "    plt.savefig(f'cyber_result/forward/output_{i}.png')\n",
    "    plt.close()\n",
    "\n",
    "    dist1, cost, acc, path = dtw(output[i,0,:].reshape(-1, 1), dataset_test.data_normal[i, :].reshape(-1, 1), dist=lambda x, y: np.linalg.norm(x - y, ord=1))\n",
    "    dist2, cost, acc, path = dtw(output_back[i,0,:].reshape(-1, 1), output[i,0,:].reshape(-1, 1), dist=lambda x, y: np.linalg.norm(x - y, ord=1))\n",
    "    dist3, cost, acc, path = dtw(output_back[i,0,:].reshape(-1, 1), dataset_test.data_normal[i, :].reshape(-1, 1), dist=lambda x, y: np.linalg.norm(x - y, ord=1))\n",
    "    res = (dist2+dist3)/dist1\n",
    "    print(\"+\" if res < threshold else \"-\", res)"
   ]
  },
  {
   "cell_type": "markdown",
   "metadata": {},
   "source": [
    "---"
   ]
  },
  {
   "cell_type": "code",
   "execution_count": 11,
   "metadata": {},
   "outputs": [
    {
     "data": {
      "text/plain": [
       "torch.Size([33, 15, 144])"
      ]
     },
     "execution_count": 11,
     "metadata": {},
     "output_type": "execute_result"
    }
   ],
   "source": [
    "dataset_test.data_abnormal.size()"
   ]
  },
  {
   "cell_type": "code",
   "execution_count": 12,
   "metadata": {},
   "outputs": [
    {
     "data": {
      "text/plain": [
       "torch.Size([33, 576])"
      ]
     },
     "execution_count": 12,
     "metadata": {},
     "output_type": "execute_result"
    }
   ],
   "source": [
    "data_abnormal_test = dataset.data_abnormal[:,4,:]\n",
    "data_abnormal_test.size()"
   ]
  },
  {
   "cell_type": "code",
   "execution_count": 13,
   "metadata": {},
   "outputs": [],
   "source": [
    "with torch.no_grad():\n",
    "    output = G_AB(data_abnormal_test.unsqueeze(1))\n",
    "    output_back = G_BA(output)"
   ]
  },
  {
   "cell_type": "code",
   "execution_count": 14,
   "metadata": {},
   "outputs": [
    {
     "name": "stdout",
     "output_type": "stream",
     "text": [
      "- 16.91317726903861\n",
      "- 21.77773310600828\n",
      "- 17.712344376989314\n",
      "- 17.063933322802395\n",
      "- 8.149383151311397\n",
      "- 18.963418303263914\n",
      "- 18.963418303263914\n",
      "- 19.24529924156134\n",
      "- 19.5690098475925\n",
      "- 19.82742398379115\n",
      "- 19.838169672339983\n",
      "- 20.348981515432765\n",
      "- 19.225526521673643\n",
      "+ 1.7001143878785956\n",
      "- 11.443426734977365\n",
      "- 7.184549234687114\n",
      "- 8.152891377692713\n",
      "+ 4.630614909240406\n",
      "- 9.922095570686894\n",
      "+ 1.497892297466366\n",
      "- 6.546857278488791\n",
      "- 9.381993680709739\n",
      "+ 1.744386673793939\n",
      "+ 1.0721229564493846\n",
      "+ 1.0067357629559972\n",
      "+ 1.071640135561151\n",
      "- 8.333047939356062\n",
      "- 6.546857278488791\n",
      "- 9.926762622135023\n",
      "- 7.773616823570045\n",
      "- 17.26726747278578\n",
      "- 9.373393732369156\n",
      "- 10.163532326486429\n"
     ]
    }
   ],
   "source": [
    "for i in range(output.size(0)):\n",
    "    plt.plot(output[i, 0, :].numpy())\n",
    "    plt.plot(output_back[i, 0, :].numpy())\n",
    "    plt.plot(data_abnormal_test[i, :].numpy())\n",
    "    plt.legend(['Generated', 'Generated Back', 'Original'])\n",
    "    plt.savefig(f'cyber_result/detection/output_{i}.png')\n",
    "    plt.close()\n",
    "\n",
    "    dist1, cost, acc, path = dtw(output[i,0,:].reshape(-1, 1), data_abnormal_test[i, :].reshape(-1, 1), dist=lambda x, y: np.linalg.norm(x - y, ord=1))\n",
    "    dist2, cost, acc, path = dtw(output_back[i,0,:].reshape(-1, 1), output[i,0,:].reshape(-1, 1), dist=lambda x, y: np.linalg.norm(x - y, ord=1))\n",
    "    dist3, cost, acc, path = dtw(output_back[i,0,:].reshape(-1, 1), data_abnormal_test[i, :].reshape(-1, 1), dist=lambda x, y: np.linalg.norm(x - y, ord=1)) \n",
    "    res = (dist2+dist3)/dist1   \n",
    "    print(\"+\" if res < threshold else \"-\", res)"
   ]
  }
 ],
 "metadata": {
  "kernelspec": {
   "display_name": "GAN",
   "language": "python",
   "name": "python3"
  },
  "language_info": {
   "codemirror_mode": {
    "name": "ipython",
    "version": 3
   },
   "file_extension": ".py",
   "mimetype": "text/x-python",
   "name": "python",
   "nbconvert_exporter": "python",
   "pygments_lexer": "ipython3",
   "version": "3.12.2"
  }
 },
 "nbformat": 4,
 "nbformat_minor": 2
}
